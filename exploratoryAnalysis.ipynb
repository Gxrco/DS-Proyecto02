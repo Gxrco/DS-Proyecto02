{
  "cells": [
    {
      "cell_type": "markdown",
      "metadata": {},
      "source": [
        "# Proyecto 02 — MAP (Charting Student Math Misunderstandings)\n",
        "### Paso #5 — Análisis Exploratorio de Datos (EDA)\n",
        "\n",
        "Este cuaderno necesita que se corra el **Paso #4 (Preprocesamiento)** con `main.ipynb` y que existen los archivos:\n",
        "- `./data/preprocessed/train_preprocessed.csv`\n",
        "- `./data/preprocessed/test_preprocessed.csv`\n",
        "\n",
        "**Objetivos del EDA**:\n",
        "1. Describir cuántas variables y observaciones hay en el dataset y sus tipos de datos.\n",
        "2. Resumir variables numéricas (medidas de tendencia central y dispersión).\n",
        "3. Elaborar tablas de frecuencia para variables categóricas.\n",
        "4. Realizar cruces entre variables clave para detectar patrones relevantes.\n",
        "5. Generar gráficos exploratorios (histogramas, diagramas de cajas, dispersión, barras, etc.)."
      ]
    },
    {
      "cell_type": "code",
      "execution_count": 1,
      "metadata": {},
      "outputs": [
        {
          "name": "stdout",
          "output_type": "stream",
          "text": [
            "Archivos detectados:\n",
            " - C:\\Users\\n8nug\\Documents\\Uni\\2doSemestre2025\\DS\\DS-Proyecto02\\data\\preprocessed\\train_preprocessed.csv\n",
            " - C:\\Users\\n8nug\\Documents\\Uni\\2doSemestre2025\\DS\\DS-Proyecto02\\data\\preprocessed\\test_preprocessed.csv\n",
            "Resultados/figuras se guardarán en: C:\\Users\\n8nug\\Documents\\Uni\\2doSemestre2025\\DS\\DS-Proyecto02\\eda_outputs\n"
          ]
        }
      ],
      "source": [
        "# Imports y configuración\n",
        "import os, json, math\n",
        "from pathlib import Path\n",
        "\n",
        "import numpy as np\n",
        "import pandas as pd\n",
        "import matplotlib.pyplot as plt\n",
        "\n",
        "# Configuración general\n",
        "pd.set_option(\"display.max_colwidth\", 200)\n",
        "pd.set_option(\"display.max_columns\", 200)\n",
        "\n",
        "DATA_DIR = Path(\"./data\")\n",
        "PP_DIR   = DATA_DIR / \"preprocessed\"\n",
        "TRAIN_PP = PP_DIR / \"train_preprocessed.csv\"\n",
        "TEST_PP  = PP_DIR / \"test_preprocessed.csv\"\n",
        "\n",
        "OUT_DIR  = Path(\"./eda_outputs\")\n",
        "OUT_DIR.mkdir(parents=True, exist_ok=True)\n",
        "\n",
        "# Validación de existencia de archivos\n",
        "assert TRAIN_PP.exists() and TEST_PP.exists(), (\n",
        "    \"No se encontraron los archivos preprocesados. \"\n",
        "    \"Ejecuta primero main.ipynb y verifica las rutas en ./data/preprocessed/\"\n",
        ")\n",
        "\n",
        "print(\"Archivos detectados:\")\n",
        "print(\" -\", TRAIN_PP.resolve())\n",
        "print(\" -\", TEST_PP.resolve())\n",
        "print(\"Resultados/figuras se guardarán en:\", OUT_DIR.resolve())"
      ]
    },
    {
      "cell_type": "code",
      "execution_count": 2,
      "metadata": {},
      "outputs": [
        {
          "name": "stdout",
          "output_type": "stream",
          "text": [
            "Tamaños:\n",
            " - train: (36696, 15)\n",
            " - test : (3, 11)\n",
            "\n",
            "Columnas disponibles en train:\n",
            "['row_id', 'QuestionId', 'QuestionText', 'MC_Answer', 'StudentExplanation', 'Category', 'Misconception', 'StudentExplanation_clean', 'len_chars', 'len_words', 'num_digits', 'num_mathops', 'has_latex', 'Category_id', 'Misconception_id']\n",
            "\n",
            "Vista rápida de train:\n"
          ]
        },
        {
          "data": {
            "application/vnd.microsoft.datawrangler.viewer.v0+json": {
              "columns": [
                {
                  "name": "index",
                  "rawType": "int64",
                  "type": "integer"
                },
                {
                  "name": "row_id",
                  "rawType": "int64",
                  "type": "integer"
                },
                {
                  "name": "QuestionId",
                  "rawType": "int64",
                  "type": "integer"
                },
                {
                  "name": "QuestionText",
                  "rawType": "object",
                  "type": "string"
                },
                {
                  "name": "MC_Answer",
                  "rawType": "object",
                  "type": "string"
                },
                {
                  "name": "StudentExplanation",
                  "rawType": "object",
                  "type": "string"
                },
                {
                  "name": "Category",
                  "rawType": "object",
                  "type": "string"
                },
                {
                  "name": "Misconception",
                  "rawType": "object",
                  "type": "unknown"
                },
                {
                  "name": "StudentExplanation_clean",
                  "rawType": "object",
                  "type": "string"
                },
                {
                  "name": "len_chars",
                  "rawType": "int64",
                  "type": "integer"
                },
                {
                  "name": "len_words",
                  "rawType": "int64",
                  "type": "integer"
                },
                {
                  "name": "num_digits",
                  "rawType": "int64",
                  "type": "integer"
                },
                {
                  "name": "num_mathops",
                  "rawType": "int64",
                  "type": "integer"
                },
                {
                  "name": "has_latex",
                  "rawType": "bool",
                  "type": "boolean"
                },
                {
                  "name": "Category_id",
                  "rawType": "int64",
                  "type": "integer"
                },
                {
                  "name": "Misconception_id",
                  "rawType": "int64",
                  "type": "integer"
                }
              ],
              "ref": "8f2b8039-9b27-426f-a181-f3e906247bb5",
              "rows": [
                [
                  "0",
                  "0",
                  "31772",
                  "What fraction of the shape is not shaded? Give your answer in its simplest form. [Image: A triangle split into 9 equal smaller triangles. 6 of them are shaded.]",
                  "\\( \\frac{1}{3} \\)",
                  "0ne third is equal to tree nineth",
                  "True_Correct",
                  null,
                  "0ne third is equal to tree nineth",
                  "33",
                  "7",
                  "1",
                  "0",
                  "False",
                  "3",
                  "21"
                ],
                [
                  "1",
                  "1",
                  "31772",
                  "What fraction of the shape is not shaded? Give your answer in its simplest form. [Image: A triangle split into 9 equal smaller triangles. 6 of them are shaded.]",
                  "\\( \\frac{1}{3} \\)",
                  "1 / 3 because 6 over 9 is 2 thirds and 1 third is not shaded.",
                  "True_Correct",
                  null,
                  "1 / 3 because 6 over 9 is 2 thirds and 1 third is not shaded.",
                  "61",
                  "16",
                  "6",
                  "1",
                  "False",
                  "3",
                  "21"
                ],
                [
                  "2",
                  "2",
                  "31772",
                  "What fraction of the shape is not shaded? Give your answer in its simplest form. [Image: A triangle split into 9 equal smaller triangles. 6 of them are shaded.]",
                  "\\( \\frac{1}{3} \\)",
                  "1 3rd is half of 3 6th, so it is simplee to understand.",
                  "True_Neither",
                  null,
                  "1 3rd is half of 3 6th, so it is simplee to understand.",
                  "55",
                  "13",
                  "4",
                  "0",
                  "False",
                  "5",
                  "21"
                ],
                [
                  "3",
                  "3",
                  "31772",
                  "What fraction of the shape is not shaded? Give your answer in its simplest form. [Image: A triangle split into 9 equal smaller triangles. 6 of them are shaded.]",
                  "\\( \\frac{1}{3} \\)",
                  "1 goes into everything and 3 goes into nine",
                  "True_Neither",
                  null,
                  "1 goes into everything and 3 goes into nine",
                  "43",
                  "9",
                  "2",
                  "0",
                  "False",
                  "5",
                  "21"
                ],
                [
                  "4",
                  "4",
                  "31772",
                  "What fraction of the shape is not shaded? Give your answer in its simplest form. [Image: A triangle split into 9 equal smaller triangles. 6 of them are shaded.]",
                  "\\( \\frac{1}{3} \\)",
                  "1 out of every 3 isn't coloured",
                  "True_Correct",
                  null,
                  "1 out of every 3 isn't coloured",
                  "31",
                  "7",
                  "2",
                  "0",
                  "False",
                  "3",
                  "21"
                ]
              ],
              "shape": {
                "columns": 15,
                "rows": 5
              }
            },
            "text/html": [
              "<div>\n",
              "<style scoped>\n",
              "    .dataframe tbody tr th:only-of-type {\n",
              "        vertical-align: middle;\n",
              "    }\n",
              "\n",
              "    .dataframe tbody tr th {\n",
              "        vertical-align: top;\n",
              "    }\n",
              "\n",
              "    .dataframe thead th {\n",
              "        text-align: right;\n",
              "    }\n",
              "</style>\n",
              "<table border=\"1\" class=\"dataframe\">\n",
              "  <thead>\n",
              "    <tr style=\"text-align: right;\">\n",
              "      <th></th>\n",
              "      <th>row_id</th>\n",
              "      <th>QuestionId</th>\n",
              "      <th>QuestionText</th>\n",
              "      <th>MC_Answer</th>\n",
              "      <th>StudentExplanation</th>\n",
              "      <th>Category</th>\n",
              "      <th>Misconception</th>\n",
              "      <th>StudentExplanation_clean</th>\n",
              "      <th>len_chars</th>\n",
              "      <th>len_words</th>\n",
              "      <th>num_digits</th>\n",
              "      <th>num_mathops</th>\n",
              "      <th>has_latex</th>\n",
              "      <th>Category_id</th>\n",
              "      <th>Misconception_id</th>\n",
              "    </tr>\n",
              "  </thead>\n",
              "  <tbody>\n",
              "    <tr>\n",
              "      <th>0</th>\n",
              "      <td>0</td>\n",
              "      <td>31772</td>\n",
              "      <td>What fraction of the shape is not shaded? Give your answer in its simplest form. [Image: A triangle split into 9 equal smaller triangles. 6 of them are shaded.]</td>\n",
              "      <td>\\( \\frac{1}{3} \\)</td>\n",
              "      <td>0ne third is equal to tree nineth</td>\n",
              "      <td>True_Correct</td>\n",
              "      <td>NaN</td>\n",
              "      <td>0ne third is equal to tree nineth</td>\n",
              "      <td>33</td>\n",
              "      <td>7</td>\n",
              "      <td>1</td>\n",
              "      <td>0</td>\n",
              "      <td>False</td>\n",
              "      <td>3</td>\n",
              "      <td>21</td>\n",
              "    </tr>\n",
              "    <tr>\n",
              "      <th>1</th>\n",
              "      <td>1</td>\n",
              "      <td>31772</td>\n",
              "      <td>What fraction of the shape is not shaded? Give your answer in its simplest form. [Image: A triangle split into 9 equal smaller triangles. 6 of them are shaded.]</td>\n",
              "      <td>\\( \\frac{1}{3} \\)</td>\n",
              "      <td>1 / 3 because 6 over 9 is 2 thirds and 1 third is not shaded.</td>\n",
              "      <td>True_Correct</td>\n",
              "      <td>NaN</td>\n",
              "      <td>1 / 3 because 6 over 9 is 2 thirds and 1 third is not shaded.</td>\n",
              "      <td>61</td>\n",
              "      <td>16</td>\n",
              "      <td>6</td>\n",
              "      <td>1</td>\n",
              "      <td>False</td>\n",
              "      <td>3</td>\n",
              "      <td>21</td>\n",
              "    </tr>\n",
              "    <tr>\n",
              "      <th>2</th>\n",
              "      <td>2</td>\n",
              "      <td>31772</td>\n",
              "      <td>What fraction of the shape is not shaded? Give your answer in its simplest form. [Image: A triangle split into 9 equal smaller triangles. 6 of them are shaded.]</td>\n",
              "      <td>\\( \\frac{1}{3} \\)</td>\n",
              "      <td>1 3rd is half of 3 6th, so it is simplee to understand.</td>\n",
              "      <td>True_Neither</td>\n",
              "      <td>NaN</td>\n",
              "      <td>1 3rd is half of 3 6th, so it is simplee to understand.</td>\n",
              "      <td>55</td>\n",
              "      <td>13</td>\n",
              "      <td>4</td>\n",
              "      <td>0</td>\n",
              "      <td>False</td>\n",
              "      <td>5</td>\n",
              "      <td>21</td>\n",
              "    </tr>\n",
              "    <tr>\n",
              "      <th>3</th>\n",
              "      <td>3</td>\n",
              "      <td>31772</td>\n",
              "      <td>What fraction of the shape is not shaded? Give your answer in its simplest form. [Image: A triangle split into 9 equal smaller triangles. 6 of them are shaded.]</td>\n",
              "      <td>\\( \\frac{1}{3} \\)</td>\n",
              "      <td>1 goes into everything and 3 goes into nine</td>\n",
              "      <td>True_Neither</td>\n",
              "      <td>NaN</td>\n",
              "      <td>1 goes into everything and 3 goes into nine</td>\n",
              "      <td>43</td>\n",
              "      <td>9</td>\n",
              "      <td>2</td>\n",
              "      <td>0</td>\n",
              "      <td>False</td>\n",
              "      <td>5</td>\n",
              "      <td>21</td>\n",
              "    </tr>\n",
              "    <tr>\n",
              "      <th>4</th>\n",
              "      <td>4</td>\n",
              "      <td>31772</td>\n",
              "      <td>What fraction of the shape is not shaded? Give your answer in its simplest form. [Image: A triangle split into 9 equal smaller triangles. 6 of them are shaded.]</td>\n",
              "      <td>\\( \\frac{1}{3} \\)</td>\n",
              "      <td>1 out of every 3 isn't coloured</td>\n",
              "      <td>True_Correct</td>\n",
              "      <td>NaN</td>\n",
              "      <td>1 out of every 3 isn't coloured</td>\n",
              "      <td>31</td>\n",
              "      <td>7</td>\n",
              "      <td>2</td>\n",
              "      <td>0</td>\n",
              "      <td>False</td>\n",
              "      <td>3</td>\n",
              "      <td>21</td>\n",
              "    </tr>\n",
              "  </tbody>\n",
              "</table>\n",
              "</div>"
            ],
            "text/plain": [
              "   row_id  QuestionId  \\\n",
              "0       0       31772   \n",
              "1       1       31772   \n",
              "2       2       31772   \n",
              "3       3       31772   \n",
              "4       4       31772   \n",
              "\n",
              "                                                                                                                                                       QuestionText  \\\n",
              "0  What fraction of the shape is not shaded? Give your answer in its simplest form. [Image: A triangle split into 9 equal smaller triangles. 6 of them are shaded.]   \n",
              "1  What fraction of the shape is not shaded? Give your answer in its simplest form. [Image: A triangle split into 9 equal smaller triangles. 6 of them are shaded.]   \n",
              "2  What fraction of the shape is not shaded? Give your answer in its simplest form. [Image: A triangle split into 9 equal smaller triangles. 6 of them are shaded.]   \n",
              "3  What fraction of the shape is not shaded? Give your answer in its simplest form. [Image: A triangle split into 9 equal smaller triangles. 6 of them are shaded.]   \n",
              "4  What fraction of the shape is not shaded? Give your answer in its simplest form. [Image: A triangle split into 9 equal smaller triangles. 6 of them are shaded.]   \n",
              "\n",
              "           MC_Answer  \\\n",
              "0  \\( \\frac{1}{3} \\)   \n",
              "1  \\( \\frac{1}{3} \\)   \n",
              "2  \\( \\frac{1}{3} \\)   \n",
              "3  \\( \\frac{1}{3} \\)   \n",
              "4  \\( \\frac{1}{3} \\)   \n",
              "\n",
              "                                              StudentExplanation  \\\n",
              "0                              0ne third is equal to tree nineth   \n",
              "1  1 / 3 because 6 over 9 is 2 thirds and 1 third is not shaded.   \n",
              "2        1 3rd is half of 3 6th, so it is simplee to understand.   \n",
              "3                    1 goes into everything and 3 goes into nine   \n",
              "4                                1 out of every 3 isn't coloured   \n",
              "\n",
              "       Category Misconception  \\\n",
              "0  True_Correct           NaN   \n",
              "1  True_Correct           NaN   \n",
              "2  True_Neither           NaN   \n",
              "3  True_Neither           NaN   \n",
              "4  True_Correct           NaN   \n",
              "\n",
              "                                        StudentExplanation_clean  len_chars  \\\n",
              "0                              0ne third is equal to tree nineth         33   \n",
              "1  1 / 3 because 6 over 9 is 2 thirds and 1 third is not shaded.         61   \n",
              "2        1 3rd is half of 3 6th, so it is simplee to understand.         55   \n",
              "3                    1 goes into everything and 3 goes into nine         43   \n",
              "4                                1 out of every 3 isn't coloured         31   \n",
              "\n",
              "   len_words  num_digits  num_mathops  has_latex  Category_id  \\\n",
              "0          7           1            0      False            3   \n",
              "1         16           6            1      False            3   \n",
              "2         13           4            0      False            5   \n",
              "3          9           2            0      False            5   \n",
              "4          7           2            0      False            3   \n",
              "\n",
              "   Misconception_id  \n",
              "0                21  \n",
              "1                21  \n",
              "2                21  \n",
              "3                21  \n",
              "4                21  "
            ]
          },
          "metadata": {},
          "output_type": "display_data"
        }
      ],
      "source": [
        "# Carga de datos\n",
        "train = pd.read_csv(TRAIN_PP)\n",
        "test  = pd.read_csv(TEST_PP)\n",
        "\n",
        "print(\"Tamaños:\")\n",
        "print(\" - train:\", train.shape)\n",
        "print(\" - test :\", test.shape)\n",
        "\n",
        "# Columnas esperadas y presentes\n",
        "print(\"\\nColumnas disponibles en train:\")\n",
        "print(train.columns.tolist())\n",
        "\n",
        "print(\"\\nVista rápida de train:\")\n",
        "display(train.head(5))"
      ]
    },
    {
      "cell_type": "markdown",
      "metadata": {},
      "source": [
        "## Forma, tipos de datos, valores faltantes y duplicados"
      ]
    },
    {
      "cell_type": "code",
      "execution_count": 3,
      "metadata": {},
      "outputs": [
        {
          "name": "stdout",
          "output_type": "stream",
          "text": [
            "Tipos de datos (train):\n"
          ]
        },
        {
          "data": {
            "application/vnd.microsoft.datawrangler.viewer.v0+json": {
              "columns": [
                {
                  "name": "index",
                  "rawType": "object",
                  "type": "string"
                },
                {
                  "name": "dtype",
                  "rawType": "object",
                  "type": "unknown"
                }
              ],
              "ref": "182f736d-4464-472d-877c-43f62416a399",
              "rows": [
                [
                  "row_id",
                  "int64"
                ],
                [
                  "QuestionId",
                  "int64"
                ],
                [
                  "QuestionText",
                  "object"
                ],
                [
                  "MC_Answer",
                  "object"
                ],
                [
                  "StudentExplanation",
                  "object"
                ],
                [
                  "Category",
                  "object"
                ],
                [
                  "Misconception",
                  "object"
                ],
                [
                  "StudentExplanation_clean",
                  "object"
                ],
                [
                  "len_chars",
                  "int64"
                ],
                [
                  "len_words",
                  "int64"
                ],
                [
                  "num_digits",
                  "int64"
                ],
                [
                  "num_mathops",
                  "int64"
                ],
                [
                  "has_latex",
                  "bool"
                ],
                [
                  "Category_id",
                  "int64"
                ],
                [
                  "Misconception_id",
                  "int64"
                ]
              ],
              "shape": {
                "columns": 1,
                "rows": 15
              }
            },
            "text/html": [
              "<div>\n",
              "<style scoped>\n",
              "    .dataframe tbody tr th:only-of-type {\n",
              "        vertical-align: middle;\n",
              "    }\n",
              "\n",
              "    .dataframe tbody tr th {\n",
              "        vertical-align: top;\n",
              "    }\n",
              "\n",
              "    .dataframe thead th {\n",
              "        text-align: right;\n",
              "    }\n",
              "</style>\n",
              "<table border=\"1\" class=\"dataframe\">\n",
              "  <thead>\n",
              "    <tr style=\"text-align: right;\">\n",
              "      <th></th>\n",
              "      <th>dtype</th>\n",
              "    </tr>\n",
              "  </thead>\n",
              "  <tbody>\n",
              "    <tr>\n",
              "      <th>row_id</th>\n",
              "      <td>int64</td>\n",
              "    </tr>\n",
              "    <tr>\n",
              "      <th>QuestionId</th>\n",
              "      <td>int64</td>\n",
              "    </tr>\n",
              "    <tr>\n",
              "      <th>QuestionText</th>\n",
              "      <td>object</td>\n",
              "    </tr>\n",
              "    <tr>\n",
              "      <th>MC_Answer</th>\n",
              "      <td>object</td>\n",
              "    </tr>\n",
              "    <tr>\n",
              "      <th>StudentExplanation</th>\n",
              "      <td>object</td>\n",
              "    </tr>\n",
              "    <tr>\n",
              "      <th>Category</th>\n",
              "      <td>object</td>\n",
              "    </tr>\n",
              "    <tr>\n",
              "      <th>Misconception</th>\n",
              "      <td>object</td>\n",
              "    </tr>\n",
              "    <tr>\n",
              "      <th>StudentExplanation_clean</th>\n",
              "      <td>object</td>\n",
              "    </tr>\n",
              "    <tr>\n",
              "      <th>len_chars</th>\n",
              "      <td>int64</td>\n",
              "    </tr>\n",
              "    <tr>\n",
              "      <th>len_words</th>\n",
              "      <td>int64</td>\n",
              "    </tr>\n",
              "    <tr>\n",
              "      <th>num_digits</th>\n",
              "      <td>int64</td>\n",
              "    </tr>\n",
              "    <tr>\n",
              "      <th>num_mathops</th>\n",
              "      <td>int64</td>\n",
              "    </tr>\n",
              "    <tr>\n",
              "      <th>has_latex</th>\n",
              "      <td>bool</td>\n",
              "    </tr>\n",
              "    <tr>\n",
              "      <th>Category_id</th>\n",
              "      <td>int64</td>\n",
              "    </tr>\n",
              "    <tr>\n",
              "      <th>Misconception_id</th>\n",
              "      <td>int64</td>\n",
              "    </tr>\n",
              "  </tbody>\n",
              "</table>\n",
              "</div>"
            ],
            "text/plain": [
              "                           dtype\n",
              "row_id                     int64\n",
              "QuestionId                 int64\n",
              "QuestionText              object\n",
              "MC_Answer                 object\n",
              "StudentExplanation        object\n",
              "Category                  object\n",
              "Misconception             object\n",
              "StudentExplanation_clean  object\n",
              "len_chars                  int64\n",
              "len_words                  int64\n",
              "num_digits                 int64\n",
              "num_mathops                int64\n",
              "has_latex                   bool\n",
              "Category_id                int64\n",
              "Misconception_id           int64"
            ]
          },
          "metadata": {},
          "output_type": "display_data"
        },
        {
          "name": "stdout",
          "output_type": "stream",
          "text": [
            "\n",
            "Valores faltantes por columna (train):\n"
          ]
        },
        {
          "data": {
            "application/vnd.microsoft.datawrangler.viewer.v0+json": {
              "columns": [
                {
                  "name": "index",
                  "rawType": "object",
                  "type": "string"
                },
                {
                  "name": "n_missing",
                  "rawType": "int64",
                  "type": "integer"
                }
              ],
              "ref": "068e2309-fffb-40c8-9602-9726a57061f5",
              "rows": [
                [
                  "Misconception",
                  "26836"
                ],
                [
                  "QuestionId",
                  "0"
                ],
                [
                  "row_id",
                  "0"
                ],
                [
                  "QuestionText",
                  "0"
                ],
                [
                  "MC_Answer",
                  "0"
                ],
                [
                  "StudentExplanation",
                  "0"
                ],
                [
                  "Category",
                  "0"
                ],
                [
                  "StudentExplanation_clean",
                  "0"
                ],
                [
                  "len_chars",
                  "0"
                ],
                [
                  "len_words",
                  "0"
                ],
                [
                  "num_digits",
                  "0"
                ],
                [
                  "num_mathops",
                  "0"
                ],
                [
                  "has_latex",
                  "0"
                ],
                [
                  "Category_id",
                  "0"
                ],
                [
                  "Misconception_id",
                  "0"
                ]
              ],
              "shape": {
                "columns": 1,
                "rows": 15
              }
            },
            "text/html": [
              "<div>\n",
              "<style scoped>\n",
              "    .dataframe tbody tr th:only-of-type {\n",
              "        vertical-align: middle;\n",
              "    }\n",
              "\n",
              "    .dataframe tbody tr th {\n",
              "        vertical-align: top;\n",
              "    }\n",
              "\n",
              "    .dataframe thead th {\n",
              "        text-align: right;\n",
              "    }\n",
              "</style>\n",
              "<table border=\"1\" class=\"dataframe\">\n",
              "  <thead>\n",
              "    <tr style=\"text-align: right;\">\n",
              "      <th></th>\n",
              "      <th>n_missing</th>\n",
              "    </tr>\n",
              "  </thead>\n",
              "  <tbody>\n",
              "    <tr>\n",
              "      <th>Misconception</th>\n",
              "      <td>26836</td>\n",
              "    </tr>\n",
              "    <tr>\n",
              "      <th>QuestionId</th>\n",
              "      <td>0</td>\n",
              "    </tr>\n",
              "    <tr>\n",
              "      <th>row_id</th>\n",
              "      <td>0</td>\n",
              "    </tr>\n",
              "    <tr>\n",
              "      <th>QuestionText</th>\n",
              "      <td>0</td>\n",
              "    </tr>\n",
              "    <tr>\n",
              "      <th>MC_Answer</th>\n",
              "      <td>0</td>\n",
              "    </tr>\n",
              "    <tr>\n",
              "      <th>StudentExplanation</th>\n",
              "      <td>0</td>\n",
              "    </tr>\n",
              "    <tr>\n",
              "      <th>Category</th>\n",
              "      <td>0</td>\n",
              "    </tr>\n",
              "    <tr>\n",
              "      <th>StudentExplanation_clean</th>\n",
              "      <td>0</td>\n",
              "    </tr>\n",
              "    <tr>\n",
              "      <th>len_chars</th>\n",
              "      <td>0</td>\n",
              "    </tr>\n",
              "    <tr>\n",
              "      <th>len_words</th>\n",
              "      <td>0</td>\n",
              "    </tr>\n",
              "    <tr>\n",
              "      <th>num_digits</th>\n",
              "      <td>0</td>\n",
              "    </tr>\n",
              "    <tr>\n",
              "      <th>num_mathops</th>\n",
              "      <td>0</td>\n",
              "    </tr>\n",
              "    <tr>\n",
              "      <th>has_latex</th>\n",
              "      <td>0</td>\n",
              "    </tr>\n",
              "    <tr>\n",
              "      <th>Category_id</th>\n",
              "      <td>0</td>\n",
              "    </tr>\n",
              "    <tr>\n",
              "      <th>Misconception_id</th>\n",
              "      <td>0</td>\n",
              "    </tr>\n",
              "  </tbody>\n",
              "</table>\n",
              "</div>"
            ],
            "text/plain": [
              "                          n_missing\n",
              "Misconception                 26836\n",
              "QuestionId                        0\n",
              "row_id                            0\n",
              "QuestionText                      0\n",
              "MC_Answer                         0\n",
              "StudentExplanation                0\n",
              "Category                          0\n",
              "StudentExplanation_clean          0\n",
              "len_chars                         0\n",
              "len_words                         0\n",
              "num_digits                        0\n",
              "num_mathops                       0\n",
              "has_latex                         0\n",
              "Category_id                       0\n",
              "Misconception_id                  0"
            ]
          },
          "metadata": {},
          "output_type": "display_data"
        },
        {
          "name": "stdout",
          "output_type": "stream",
          "text": [
            "\n",
            "Duplicados por ['QuestionId', 'MC_Answer', 'StudentExplanation_clean']: 861\n"
          ]
        }
      ],
      "source": [
        "# Tipos de datos y conteo de faltantes\n",
        "print(\"Tipos de datos (train):\")\n",
        "display(train.dtypes.to_frame(\"dtype\"))\n",
        "\n",
        "print(\"\\nValores faltantes por columna (train):\")\n",
        "missing = train.isna().sum().sort_values(ascending=False)\n",
        "display(missing.to_frame(\"n_missing\"))\n",
        "\n",
        "# Duplicados considerando un subconjunto razonable de columnas de identidad de fila\n",
        "subset_cols = [\"QuestionId\", \"MC_Answer\", \"StudentExplanation_clean\"]\n",
        "dup_count = train.duplicated(subset=subset_cols).sum()\n",
        "print(f\"\\nDuplicados por {subset_cols}: {dup_count}\")\n",
        "\n",
        "canon_map = {\n",
        "    \"Wrong_Fraction\": \"Wrong_fraction\",\n",
        "    \"\": \"NA\",\n",
        "}\n",
        "train[\"Misconception\"] = train[\"Misconception\"].replace(canon_map)\n"
      ]
    },
    {
      "cell_type": "markdown",
      "id": "f387d5a9",
      "metadata": {},
      "source": [
        "**Nota: ~75% de Misconception está vacío. Eso no es (necesariamente) “faltante aleatorio”; es, más bien, faltante estructural: solo debería existir una etiqueta de Misconception cuando la fila pertenece a una categoría con malentendido (p. ej., True_Misconception, False_Misconception). Para el resto (p. ej., *_Correct, *_Neither), lo normal es que Misconception sea NA/”no aplica”.****"
      ]
    },
    {
      "cell_type": "markdown",
      "metadata": {},
      "source": [
        "## Resumen de variables numéricas\n",
        "Se consideran, entre otras, las variables derivadas del preprocesamiento:  \n",
        "- `len_chars`, `len_words`, `num_digits`, `num_mathops`"
      ]
    },
    {
      "cell_type": "code",
      "execution_count": 4,
      "metadata": {},
      "outputs": [
        {
          "data": {
            "application/vnd.microsoft.datawrangler.viewer.v0+json": {
              "columns": [
                {
                  "name": "index",
                  "rawType": "object",
                  "type": "string"
                },
                {
                  "name": "count",
                  "rawType": "float64",
                  "type": "float"
                },
                {
                  "name": "mean",
                  "rawType": "float64",
                  "type": "float"
                },
                {
                  "name": "std",
                  "rawType": "float64",
                  "type": "float"
                },
                {
                  "name": "min",
                  "rawType": "float64",
                  "type": "float"
                },
                {
                  "name": "5%",
                  "rawType": "float64",
                  "type": "float"
                },
                {
                  "name": "25%",
                  "rawType": "float64",
                  "type": "float"
                },
                {
                  "name": "50%",
                  "rawType": "float64",
                  "type": "float"
                },
                {
                  "name": "75%",
                  "rawType": "float64",
                  "type": "float"
                },
                {
                  "name": "95%",
                  "rawType": "float64",
                  "type": "float"
                },
                {
                  "name": "max",
                  "rawType": "float64",
                  "type": "float"
                }
              ],
              "ref": "ed930017-f0c4-4454-840b-ff818dbf44b7",
              "rows": [
                [
                  "len_chars",
                  "36696.0",
                  "69.77719642467844",
                  "38.440620816214945",
                  "1.0",
                  "29.0",
                  "43.0",
                  "60.0",
                  "86.0",
                  "145.0",
                  "586.0"
                ],
                [
                  "len_words",
                  "36696.0",
                  "15.357831916285154",
                  "8.12121063077895",
                  "1.0",
                  "6.0",
                  "10.0",
                  "13.0",
                  "19.0",
                  "31.0",
                  "177.0"
                ],
                [
                  "num_digits",
                  "36696.0",
                  "4.719397209505123",
                  "4.609987655646142",
                  "0.0",
                  "0.0",
                  "1.0",
                  "4.0",
                  "7.0",
                  "13.0",
                  "101.0"
                ],
                [
                  "num_mathops",
                  "36696.0",
                  "1.0014442991061696",
                  "1.654262155704743",
                  "0.0",
                  "0.0",
                  "0.0",
                  "0.0",
                  "2.0",
                  "4.0",
                  "49.0"
                ]
              ],
              "shape": {
                "columns": 10,
                "rows": 4
              }
            },
            "text/html": [
              "<div>\n",
              "<style scoped>\n",
              "    .dataframe tbody tr th:only-of-type {\n",
              "        vertical-align: middle;\n",
              "    }\n",
              "\n",
              "    .dataframe tbody tr th {\n",
              "        vertical-align: top;\n",
              "    }\n",
              "\n",
              "    .dataframe thead th {\n",
              "        text-align: right;\n",
              "    }\n",
              "</style>\n",
              "<table border=\"1\" class=\"dataframe\">\n",
              "  <thead>\n",
              "    <tr style=\"text-align: right;\">\n",
              "      <th></th>\n",
              "      <th>count</th>\n",
              "      <th>mean</th>\n",
              "      <th>std</th>\n",
              "      <th>min</th>\n",
              "      <th>5%</th>\n",
              "      <th>25%</th>\n",
              "      <th>50%</th>\n",
              "      <th>75%</th>\n",
              "      <th>95%</th>\n",
              "      <th>max</th>\n",
              "    </tr>\n",
              "  </thead>\n",
              "  <tbody>\n",
              "    <tr>\n",
              "      <th>len_chars</th>\n",
              "      <td>36696.0</td>\n",
              "      <td>69.777196</td>\n",
              "      <td>38.440621</td>\n",
              "      <td>1.0</td>\n",
              "      <td>29.0</td>\n",
              "      <td>43.0</td>\n",
              "      <td>60.0</td>\n",
              "      <td>86.0</td>\n",
              "      <td>145.0</td>\n",
              "      <td>586.0</td>\n",
              "    </tr>\n",
              "    <tr>\n",
              "      <th>len_words</th>\n",
              "      <td>36696.0</td>\n",
              "      <td>15.357832</td>\n",
              "      <td>8.121211</td>\n",
              "      <td>1.0</td>\n",
              "      <td>6.0</td>\n",
              "      <td>10.0</td>\n",
              "      <td>13.0</td>\n",
              "      <td>19.0</td>\n",
              "      <td>31.0</td>\n",
              "      <td>177.0</td>\n",
              "    </tr>\n",
              "    <tr>\n",
              "      <th>num_digits</th>\n",
              "      <td>36696.0</td>\n",
              "      <td>4.719397</td>\n",
              "      <td>4.609988</td>\n",
              "      <td>0.0</td>\n",
              "      <td>0.0</td>\n",
              "      <td>1.0</td>\n",
              "      <td>4.0</td>\n",
              "      <td>7.0</td>\n",
              "      <td>13.0</td>\n",
              "      <td>101.0</td>\n",
              "    </tr>\n",
              "    <tr>\n",
              "      <th>num_mathops</th>\n",
              "      <td>36696.0</td>\n",
              "      <td>1.001444</td>\n",
              "      <td>1.654262</td>\n",
              "      <td>0.0</td>\n",
              "      <td>0.0</td>\n",
              "      <td>0.0</td>\n",
              "      <td>0.0</td>\n",
              "      <td>2.0</td>\n",
              "      <td>4.0</td>\n",
              "      <td>49.0</td>\n",
              "    </tr>\n",
              "  </tbody>\n",
              "</table>\n",
              "</div>"
            ],
            "text/plain": [
              "               count       mean        std  min    5%   25%   50%   75%  \\\n",
              "len_chars    36696.0  69.777196  38.440621  1.0  29.0  43.0  60.0  86.0   \n",
              "len_words    36696.0  15.357832   8.121211  1.0   6.0  10.0  13.0  19.0   \n",
              "num_digits   36696.0   4.719397   4.609988  0.0   0.0   1.0   4.0   7.0   \n",
              "num_mathops  36696.0   1.001444   1.654262  0.0   0.0   0.0   0.0   2.0   \n",
              "\n",
              "               95%    max  \n",
              "len_chars    145.0  586.0  \n",
              "len_words     31.0  177.0  \n",
              "num_digits    13.0  101.0  \n",
              "num_mathops    4.0   49.0  "
            ]
          },
          "metadata": {},
          "output_type": "display_data"
        },
        {
          "name": "stdout",
          "output_type": "stream",
          "text": [
            "Resumen numérico guardado en: C:\\Users\\n8nug\\Documents\\Uni\\2doSemestre2025\\DS\\DS-Proyecto02\\eda_outputs\\numerical_summary.csv\n"
          ]
        }
      ],
      "source": [
        "# Estadísticos descriptivos de variables numéricas\n",
        "num_cols = [c for c in [\"len_chars\", \"len_words\", \"num_digits\", \"num_mathops\"] if c in train.columns]\n",
        "desc = train[num_cols].describe(percentiles=[0.05,0.25,0.5,0.75,0.95]).T\n",
        "display(desc)\n",
        "\n",
        "# Guardar resumen numérico\n",
        "desc_out = OUT_DIR / \"numerical_summary.csv\"\n",
        "desc.to_csv(desc_out)\n",
        "print(\"Resumen numérico guardado en:\", desc_out.resolve())"
      ]
    },
    {
      "cell_type": "markdown",
      "id": "426b9494",
      "metadata": {},
      "source": [
        "- La mediana es 60 chars y 13 palabras (p75: 86 chars y 19 palabras; p95: 145 chars y 31 palabras). Es decir, la mayoría de explicaciones son breves; hay cola derecha con pocos casos muy largos (máx. 586 chars, 177 palabras).\n",
        "- Uso de dígitos frecuente pero moderado: Mediana 4 dígitos (p75: 7; p95: 13), con outliers (máx. 101). Indica que muchas explicaciones referencian números/decimales, útil para features de conteo de dígitos.\n",
        "- Operadores matemáticos poco comunes: mediana 0, p75 2, p95 4; media ≈ 1. La mayoría de explicaciones son textuales; unas pocas incluyen operaciones explícitas (outliers hasta 49)."
      ]
    },
    {
      "cell_type": "markdown",
      "metadata": {},
      "source": [
        "## Tablas de frecuencia para variables categóricas\n",
        "- `Category` (solo train)  \n",
        "- `Misconception` (solo train) — se recomienda ver Top‑N por su cola larga"
      ]
    },
    {
      "cell_type": "code",
      "execution_count": 5,
      "metadata": {},
      "outputs": [
        {
          "data": {
            "application/vnd.microsoft.datawrangler.viewer.v0+json": {
              "columns": [
                {
                  "name": "Category",
                  "rawType": "object",
                  "type": "string"
                },
                {
                  "name": "count",
                  "rawType": "int64",
                  "type": "integer"
                },
                {
                  "name": "pct",
                  "rawType": "float64",
                  "type": "float"
                }
              ],
              "ref": "d4e0bc16-253c-4014-a7e9-ab869a4694b4",
              "rows": [
                [
                  "True_Correct",
                  "14802",
                  "40.34"
                ],
                [
                  "False_Misconception",
                  "9457",
                  "25.77"
                ],
                [
                  "False_Neither",
                  "6542",
                  "17.83"
                ],
                [
                  "True_Neither",
                  "5265",
                  "14.35"
                ],
                [
                  "True_Misconception",
                  "403",
                  "1.1"
                ],
                [
                  "False_Correct",
                  "227",
                  "0.62"
                ]
              ],
              "shape": {
                "columns": 2,
                "rows": 6
              }
            },
            "text/html": [
              "<div>\n",
              "<style scoped>\n",
              "    .dataframe tbody tr th:only-of-type {\n",
              "        vertical-align: middle;\n",
              "    }\n",
              "\n",
              "    .dataframe tbody tr th {\n",
              "        vertical-align: top;\n",
              "    }\n",
              "\n",
              "    .dataframe thead th {\n",
              "        text-align: right;\n",
              "    }\n",
              "</style>\n",
              "<table border=\"1\" class=\"dataframe\">\n",
              "  <thead>\n",
              "    <tr style=\"text-align: right;\">\n",
              "      <th></th>\n",
              "      <th>count</th>\n",
              "      <th>pct</th>\n",
              "    </tr>\n",
              "    <tr>\n",
              "      <th>Category</th>\n",
              "      <th></th>\n",
              "      <th></th>\n",
              "    </tr>\n",
              "  </thead>\n",
              "  <tbody>\n",
              "    <tr>\n",
              "      <th>True_Correct</th>\n",
              "      <td>14802</td>\n",
              "      <td>40.34</td>\n",
              "    </tr>\n",
              "    <tr>\n",
              "      <th>False_Misconception</th>\n",
              "      <td>9457</td>\n",
              "      <td>25.77</td>\n",
              "    </tr>\n",
              "    <tr>\n",
              "      <th>False_Neither</th>\n",
              "      <td>6542</td>\n",
              "      <td>17.83</td>\n",
              "    </tr>\n",
              "    <tr>\n",
              "      <th>True_Neither</th>\n",
              "      <td>5265</td>\n",
              "      <td>14.35</td>\n",
              "    </tr>\n",
              "    <tr>\n",
              "      <th>True_Misconception</th>\n",
              "      <td>403</td>\n",
              "      <td>1.10</td>\n",
              "    </tr>\n",
              "    <tr>\n",
              "      <th>False_Correct</th>\n",
              "      <td>227</td>\n",
              "      <td>0.62</td>\n",
              "    </tr>\n",
              "  </tbody>\n",
              "</table>\n",
              "</div>"
            ],
            "text/plain": [
              "                     count    pct\n",
              "Category                         \n",
              "True_Correct         14802  40.34\n",
              "False_Misconception   9457  25.77\n",
              "False_Neither         6542  17.83\n",
              "True_Neither          5265  14.35\n",
              "True_Misconception     403   1.10\n",
              "False_Correct          227   0.62"
            ]
          },
          "metadata": {},
          "output_type": "display_data"
        },
        {
          "name": "stdout",
          "output_type": "stream",
          "text": [
            "Frecuencia Category guardada.\n"
          ]
        },
        {
          "data": {
            "application/vnd.microsoft.datawrangler.viewer.v0+json": {
              "columns": [
                {
                  "name": "Misconception",
                  "rawType": "object",
                  "type": "unknown"
                },
                {
                  "name": "count",
                  "rawType": "int64",
                  "type": "integer"
                },
                {
                  "name": "pct",
                  "rawType": "float64",
                  "type": "float"
                }
              ],
              "ref": "43c7138f-c6c1-4c46-86f2-16d53ca4075d",
              "rows": [
                [
                  null,
                  "26836",
                  "74.54"
                ],
                [
                  "Incomplete",
                  "1454",
                  "4.04"
                ],
                [
                  "Additive",
                  "929",
                  "2.58"
                ],
                [
                  "Duplication",
                  "704",
                  "1.96"
                ],
                [
                  "Wrong_fraction",
                  "691",
                  "1.92"
                ],
                [
                  "Subtraction",
                  "620",
                  "1.72"
                ],
                [
                  "Positive",
                  "566",
                  "1.57"
                ],
                [
                  "Wrong_term",
                  "558",
                  "1.55"
                ],
                [
                  "Irrelevant",
                  "497",
                  "1.38"
                ],
                [
                  "Inversion",
                  "414",
                  "1.15"
                ],
                [
                  "Mult",
                  "353",
                  "0.98"
                ],
                [
                  "Denominator-only_change",
                  "336",
                  "0.93"
                ],
                [
                  "Whole_numbers_larger",
                  "329",
                  "0.91"
                ],
                [
                  "Adding_across",
                  "307",
                  "0.85"
                ],
                [
                  "WNB",
                  "299",
                  "0.83"
                ],
                [
                  "Tacking",
                  "290",
                  "0.81"
                ],
                [
                  "Unknowable",
                  "282",
                  "0.78"
                ],
                [
                  "SwapDividend",
                  "206",
                  "0.57"
                ],
                [
                  "Scale",
                  "179",
                  "0.5"
                ],
                [
                  "Not_variable",
                  "154",
                  "0.43"
                ]
              ],
              "shape": {
                "columns": 2,
                "rows": 20
              }
            },
            "text/html": [
              "<div>\n",
              "<style scoped>\n",
              "    .dataframe tbody tr th:only-of-type {\n",
              "        vertical-align: middle;\n",
              "    }\n",
              "\n",
              "    .dataframe tbody tr th {\n",
              "        vertical-align: top;\n",
              "    }\n",
              "\n",
              "    .dataframe thead th {\n",
              "        text-align: right;\n",
              "    }\n",
              "</style>\n",
              "<table border=\"1\" class=\"dataframe\">\n",
              "  <thead>\n",
              "    <tr style=\"text-align: right;\">\n",
              "      <th></th>\n",
              "      <th>count</th>\n",
              "      <th>pct</th>\n",
              "    </tr>\n",
              "    <tr>\n",
              "      <th>Misconception</th>\n",
              "      <th></th>\n",
              "      <th></th>\n",
              "    </tr>\n",
              "  </thead>\n",
              "  <tbody>\n",
              "    <tr>\n",
              "      <th>NaN</th>\n",
              "      <td>26836</td>\n",
              "      <td>74.54</td>\n",
              "    </tr>\n",
              "    <tr>\n",
              "      <th>Incomplete</th>\n",
              "      <td>1454</td>\n",
              "      <td>4.04</td>\n",
              "    </tr>\n",
              "    <tr>\n",
              "      <th>Additive</th>\n",
              "      <td>929</td>\n",
              "      <td>2.58</td>\n",
              "    </tr>\n",
              "    <tr>\n",
              "      <th>Duplication</th>\n",
              "      <td>704</td>\n",
              "      <td>1.96</td>\n",
              "    </tr>\n",
              "    <tr>\n",
              "      <th>Wrong_fraction</th>\n",
              "      <td>691</td>\n",
              "      <td>1.92</td>\n",
              "    </tr>\n",
              "    <tr>\n",
              "      <th>Subtraction</th>\n",
              "      <td>620</td>\n",
              "      <td>1.72</td>\n",
              "    </tr>\n",
              "    <tr>\n",
              "      <th>Positive</th>\n",
              "      <td>566</td>\n",
              "      <td>1.57</td>\n",
              "    </tr>\n",
              "    <tr>\n",
              "      <th>Wrong_term</th>\n",
              "      <td>558</td>\n",
              "      <td>1.55</td>\n",
              "    </tr>\n",
              "    <tr>\n",
              "      <th>Irrelevant</th>\n",
              "      <td>497</td>\n",
              "      <td>1.38</td>\n",
              "    </tr>\n",
              "    <tr>\n",
              "      <th>Inversion</th>\n",
              "      <td>414</td>\n",
              "      <td>1.15</td>\n",
              "    </tr>\n",
              "    <tr>\n",
              "      <th>Mult</th>\n",
              "      <td>353</td>\n",
              "      <td>0.98</td>\n",
              "    </tr>\n",
              "    <tr>\n",
              "      <th>Denominator-only_change</th>\n",
              "      <td>336</td>\n",
              "      <td>0.93</td>\n",
              "    </tr>\n",
              "    <tr>\n",
              "      <th>Whole_numbers_larger</th>\n",
              "      <td>329</td>\n",
              "      <td>0.91</td>\n",
              "    </tr>\n",
              "    <tr>\n",
              "      <th>Adding_across</th>\n",
              "      <td>307</td>\n",
              "      <td>0.85</td>\n",
              "    </tr>\n",
              "    <tr>\n",
              "      <th>WNB</th>\n",
              "      <td>299</td>\n",
              "      <td>0.83</td>\n",
              "    </tr>\n",
              "    <tr>\n",
              "      <th>Tacking</th>\n",
              "      <td>290</td>\n",
              "      <td>0.81</td>\n",
              "    </tr>\n",
              "    <tr>\n",
              "      <th>Unknowable</th>\n",
              "      <td>282</td>\n",
              "      <td>0.78</td>\n",
              "    </tr>\n",
              "    <tr>\n",
              "      <th>SwapDividend</th>\n",
              "      <td>206</td>\n",
              "      <td>0.57</td>\n",
              "    </tr>\n",
              "    <tr>\n",
              "      <th>Scale</th>\n",
              "      <td>179</td>\n",
              "      <td>0.50</td>\n",
              "    </tr>\n",
              "    <tr>\n",
              "      <th>Not_variable</th>\n",
              "      <td>154</td>\n",
              "      <td>0.43</td>\n",
              "    </tr>\n",
              "  </tbody>\n",
              "</table>\n",
              "</div>"
            ],
            "text/plain": [
              "                         count    pct\n",
              "Misconception                        \n",
              "NaN                      26836  74.54\n",
              "Incomplete                1454   4.04\n",
              "Additive                   929   2.58\n",
              "Duplication                704   1.96\n",
              "Wrong_fraction             691   1.92\n",
              "Subtraction                620   1.72\n",
              "Positive                   566   1.57\n",
              "Wrong_term                 558   1.55\n",
              "Irrelevant                 497   1.38\n",
              "Inversion                  414   1.15\n",
              "Mult                       353   0.98\n",
              "Denominator-only_change    336   0.93\n",
              "Whole_numbers_larger       329   0.91\n",
              "Adding_across              307   0.85\n",
              "WNB                        299   0.83\n",
              "Tacking                    290   0.81\n",
              "Unknowable                 282   0.78\n",
              "SwapDividend               206   0.57\n",
              "Scale                      179   0.50\n",
              "Not_variable               154   0.43"
            ]
          },
          "metadata": {},
          "output_type": "display_data"
        },
        {
          "name": "stdout",
          "output_type": "stream",
          "text": [
            "Frecuencia Misconception (Top20) guardada.\n"
          ]
        }
      ],
      "source": [
        "# Frecuencias categóricas\n",
        "def freq_table(series: pd.Series, top=None):\n",
        "    vc = series.value_counts(dropna=False)\n",
        "    if top is not None:\n",
        "        vc = vc.head(top)\n",
        "    df = pd.DataFrame({\"count\": vc, \"pct\": (vc / vc.sum() * 100).round(2)})\n",
        "    return df\n",
        "\n",
        "# Category\n",
        "if \"Category\" in train.columns:\n",
        "    cat_freq = freq_table(train[\"Category\"])\n",
        "    display(cat_freq)\n",
        "    cat_freq.to_csv(OUT_DIR / \"freq_Category.csv\")\n",
        "    print(\"Frecuencia Category guardada.\")\n",
        "\n",
        "# Misconception (Top 20)\n",
        "if \"Misconception\" in train.columns:\n",
        "    mis_freq_top20 = freq_table(train[\"Misconception\"], top=20)\n",
        "    display(mis_freq_top20)\n",
        "    mis_freq_top20.to_csv(OUT_DIR / \"freq_Misconception_top20.csv\")\n",
        "    print(\"Frecuencia Misconception (Top20) guardada.\")"
      ]
    },
    {
      "cell_type": "markdown",
      "id": "9f193cbf",
      "metadata": {},
      "source": [
        "#### **Category**\n",
        "\n",
        "- Fuerte desbalance: dos clases concentran la mayoría — True_Correct 40.34% y False_Misconception 25.77%. Les siguen False_Neither 17.83% y True_Neither 14.35%. Las minoritarias True_Misconception 1.10% y False_Correct 0.62% serán difíciles.\n",
        "\n",
        "#### **Misconception**\n",
        "\n",
        "- NA/No aplica domina con 74.54%, consistente con que solo una parte de las filas debería llevar etiqueta específica (cuando la categoría es “Misconception”).\n",
        "\n",
        "- Entre las etiquetas presentes (25.46%) hay cabeza pronunciada:\n",
        "\n",
        "    - Top 5: Incomplete 4.04, Additive 2.58, Duplication 1.96, Wrong_fraction 1.92, Subtraction 1.72 → ≈48% de todos los casos etiquetados.\n",
        "\n",
        "    - Top 10 cubre ≈74% de los etiquetados; el resto es cola.\n",
        "\n",
        "---"
      ]
    },
    {
      "cell_type": "markdown",
      "metadata": {},
      "source": [
        "## Cruces entre variables clave\n",
        "- `Category` × `Misconception`  \n",
        "- `Category` × `QuestionId` (muestra de IDs más frecuentes)  \n",
        "- Longitud de explicación por clase (boxplots en 5.e)"
      ]
    },
    {
      "cell_type": "code",
      "execution_count": 6,
      "metadata": {},
      "outputs": [
        {
          "data": {
            "application/vnd.microsoft.datawrangler.viewer.v0+json": {
              "columns": [
                {
                  "name": "Category",
                  "rawType": "object",
                  "type": "string"
                },
                {
                  "name": "Adding_across",
                  "rawType": "int64",
                  "type": "integer"
                },
                {
                  "name": "Adding_terms",
                  "rawType": "int64",
                  "type": "integer"
                },
                {
                  "name": "Additive",
                  "rawType": "int64",
                  "type": "integer"
                },
                {
                  "name": "Base_rate",
                  "rawType": "int64",
                  "type": "integer"
                },
                {
                  "name": "Certainty",
                  "rawType": "int64",
                  "type": "integer"
                },
                {
                  "name": "Definition",
                  "rawType": "int64",
                  "type": "integer"
                },
                {
                  "name": "Denominator-only_change",
                  "rawType": "int64",
                  "type": "integer"
                },
                {
                  "name": "Division",
                  "rawType": "int64",
                  "type": "integer"
                },
                {
                  "name": "Duplication",
                  "rawType": "int64",
                  "type": "integer"
                },
                {
                  "name": "Firstterm",
                  "rawType": "int64",
                  "type": "integer"
                },
                {
                  "name": "FlipChange",
                  "rawType": "int64",
                  "type": "integer"
                },
                {
                  "name": "Ignores_zeroes",
                  "rawType": "int64",
                  "type": "integer"
                },
                {
                  "name": "Incomplete",
                  "rawType": "int64",
                  "type": "integer"
                },
                {
                  "name": "Incorrect_equivalent_fraction_addition",
                  "rawType": "int64",
                  "type": "integer"
                },
                {
                  "name": "Interior",
                  "rawType": "int64",
                  "type": "integer"
                },
                {
                  "name": "Inverse_operation",
                  "rawType": "int64",
                  "type": "integer"
                },
                {
                  "name": "Inversion",
                  "rawType": "int64",
                  "type": "integer"
                },
                {
                  "name": "Irrelevant",
                  "rawType": "int64",
                  "type": "integer"
                },
                {
                  "name": "Longer_is_bigger",
                  "rawType": "int64",
                  "type": "integer"
                },
                {
                  "name": "Mult",
                  "rawType": "int64",
                  "type": "integer"
                }
              ],
              "ref": "4266eef9-9c8e-438e-9345-41cf19662142",
              "rows": [
                [
                  "False_Misconception",
                  "306",
                  "97",
                  "891",
                  "22",
                  "18",
                  "51",
                  "332",
                  "58",
                  "698",
                  "96",
                  "74",
                  "23",
                  "1446",
                  "7",
                  "50",
                  "21",
                  "409",
                  "409",
                  "23",
                  "345"
                ],
                [
                  "True_Misconception",
                  "1",
                  "0",
                  "38",
                  "1",
                  "0",
                  "3",
                  "4",
                  "5",
                  "6",
                  "11",
                  "4",
                  "0",
                  "8",
                  "2",
                  "0",
                  "0",
                  "5",
                  "88",
                  "1",
                  "8"
                ]
              ],
              "shape": {
                "columns": 20,
                "rows": 2
              }
            },
            "text/html": [
              "<div>\n",
              "<style scoped>\n",
              "    .dataframe tbody tr th:only-of-type {\n",
              "        vertical-align: middle;\n",
              "    }\n",
              "\n",
              "    .dataframe tbody tr th {\n",
              "        vertical-align: top;\n",
              "    }\n",
              "\n",
              "    .dataframe thead th {\n",
              "        text-align: right;\n",
              "    }\n",
              "</style>\n",
              "<table border=\"1\" class=\"dataframe\">\n",
              "  <thead>\n",
              "    <tr style=\"text-align: right;\">\n",
              "      <th>Misconception</th>\n",
              "      <th>Adding_across</th>\n",
              "      <th>Adding_terms</th>\n",
              "      <th>Additive</th>\n",
              "      <th>Base_rate</th>\n",
              "      <th>Certainty</th>\n",
              "      <th>Definition</th>\n",
              "      <th>Denominator-only_change</th>\n",
              "      <th>Division</th>\n",
              "      <th>Duplication</th>\n",
              "      <th>Firstterm</th>\n",
              "      <th>FlipChange</th>\n",
              "      <th>Ignores_zeroes</th>\n",
              "      <th>Incomplete</th>\n",
              "      <th>Incorrect_equivalent_fraction_addition</th>\n",
              "      <th>Interior</th>\n",
              "      <th>Inverse_operation</th>\n",
              "      <th>Inversion</th>\n",
              "      <th>Irrelevant</th>\n",
              "      <th>Longer_is_bigger</th>\n",
              "      <th>Mult</th>\n",
              "    </tr>\n",
              "    <tr>\n",
              "      <th>Category</th>\n",
              "      <th></th>\n",
              "      <th></th>\n",
              "      <th></th>\n",
              "      <th></th>\n",
              "      <th></th>\n",
              "      <th></th>\n",
              "      <th></th>\n",
              "      <th></th>\n",
              "      <th></th>\n",
              "      <th></th>\n",
              "      <th></th>\n",
              "      <th></th>\n",
              "      <th></th>\n",
              "      <th></th>\n",
              "      <th></th>\n",
              "      <th></th>\n",
              "      <th></th>\n",
              "      <th></th>\n",
              "      <th></th>\n",
              "      <th></th>\n",
              "    </tr>\n",
              "  </thead>\n",
              "  <tbody>\n",
              "    <tr>\n",
              "      <th>False_Misconception</th>\n",
              "      <td>306</td>\n",
              "      <td>97</td>\n",
              "      <td>891</td>\n",
              "      <td>22</td>\n",
              "      <td>18</td>\n",
              "      <td>51</td>\n",
              "      <td>332</td>\n",
              "      <td>58</td>\n",
              "      <td>698</td>\n",
              "      <td>96</td>\n",
              "      <td>74</td>\n",
              "      <td>23</td>\n",
              "      <td>1446</td>\n",
              "      <td>7</td>\n",
              "      <td>50</td>\n",
              "      <td>21</td>\n",
              "      <td>409</td>\n",
              "      <td>409</td>\n",
              "      <td>23</td>\n",
              "      <td>345</td>\n",
              "    </tr>\n",
              "    <tr>\n",
              "      <th>True_Misconception</th>\n",
              "      <td>1</td>\n",
              "      <td>0</td>\n",
              "      <td>38</td>\n",
              "      <td>1</td>\n",
              "      <td>0</td>\n",
              "      <td>3</td>\n",
              "      <td>4</td>\n",
              "      <td>5</td>\n",
              "      <td>6</td>\n",
              "      <td>11</td>\n",
              "      <td>4</td>\n",
              "      <td>0</td>\n",
              "      <td>8</td>\n",
              "      <td>2</td>\n",
              "      <td>0</td>\n",
              "      <td>0</td>\n",
              "      <td>5</td>\n",
              "      <td>88</td>\n",
              "      <td>1</td>\n",
              "      <td>8</td>\n",
              "    </tr>\n",
              "  </tbody>\n",
              "</table>\n",
              "</div>"
            ],
            "text/plain": [
              "Misconception        Adding_across  Adding_terms  Additive  Base_rate  \\\n",
              "Category                                                                \n",
              "False_Misconception            306            97       891         22   \n",
              "True_Misconception               1             0        38          1   \n",
              "\n",
              "Misconception        Certainty  Definition  Denominator-only_change  Division  \\\n",
              "Category                                                                        \n",
              "False_Misconception         18          51                      332        58   \n",
              "True_Misconception           0           3                        4         5   \n",
              "\n",
              "Misconception        Duplication  Firstterm  FlipChange  Ignores_zeroes  \\\n",
              "Category                                                                  \n",
              "False_Misconception          698         96          74              23   \n",
              "True_Misconception             6         11           4               0   \n",
              "\n",
              "Misconception        Incomplete  Incorrect_equivalent_fraction_addition  \\\n",
              "Category                                                                  \n",
              "False_Misconception        1446                                       7   \n",
              "True_Misconception            8                                       2   \n",
              "\n",
              "Misconception        Interior  Inverse_operation  Inversion  Irrelevant  \\\n",
              "Category                                                                  \n",
              "False_Misconception        50                 21        409         409   \n",
              "True_Misconception          0                  0          5          88   \n",
              "\n",
              "Misconception        Longer_is_bigger  Mult  \n",
              "Category                                     \n",
              "False_Misconception                23   345  \n",
              "True_Misconception                  1     8  "
            ]
          },
          "metadata": {},
          "output_type": "display_data"
        },
        {
          "name": "stdout",
          "output_type": "stream",
          "text": [
            "Crosstab Category x Misconception guardada.\n"
          ]
        },
        {
          "data": {
            "application/vnd.microsoft.datawrangler.viewer.v0+json": {
              "columns": [
                {
                  "name": "Category",
                  "rawType": "object",
                  "type": "string"
                },
                {
                  "name": "31772",
                  "rawType": "int64",
                  "type": "integer"
                },
                {
                  "name": "31774",
                  "rawType": "int64",
                  "type": "integer"
                },
                {
                  "name": "31777",
                  "rawType": "int64",
                  "type": "integer"
                },
                {
                  "name": "31778",
                  "rawType": "int64",
                  "type": "integer"
                },
                {
                  "name": "32829",
                  "rawType": "int64",
                  "type": "integer"
                },
                {
                  "name": "32833",
                  "rawType": "int64",
                  "type": "integer"
                },
                {
                  "name": "32835",
                  "rawType": "int64",
                  "type": "integer"
                },
                {
                  "name": "33471",
                  "rawType": "int64",
                  "type": "integer"
                },
                {
                  "name": "33472",
                  "rawType": "int64",
                  "type": "integer"
                },
                {
                  "name": "33474",
                  "rawType": "int64",
                  "type": "integer"
                },
                {
                  "name": "76870",
                  "rawType": "int64",
                  "type": "integer"
                },
                {
                  "name": "89443",
                  "rawType": "int64",
                  "type": "integer"
                },
                {
                  "name": "91695",
                  "rawType": "int64",
                  "type": "integer"
                },
                {
                  "name": "104665",
                  "rawType": "int64",
                  "type": "integer"
                },
                {
                  "name": "109465",
                  "rawType": "int64",
                  "type": "integer"
                }
              ],
              "ref": "08a1c50f-c9b7-4d9e-a4c4-7edb52751380",
              "rows": [
                [
                  "False_Correct",
                  "31",
                  "19",
                  "35",
                  "19",
                  "9",
                  "9",
                  "16",
                  "16",
                  "47",
                  "3",
                  "5",
                  "3",
                  "11",
                  "2",
                  "2"
                ],
                [
                  "False_Misconception",
                  "1605",
                  "617",
                  "390",
                  "1296",
                  "271",
                  "1113",
                  "380",
                  "431",
                  "645",
                  "676",
                  "383",
                  "692",
                  "646",
                  "115",
                  "197"
                ],
                [
                  "False_Neither",
                  "873",
                  "561",
                  "586",
                  "564",
                  "160",
                  "382",
                  "262",
                  "221",
                  "457",
                  "457",
                  "290",
                  "965",
                  "406",
                  "59",
                  "299"
                ],
                [
                  "True_Correct",
                  "1719",
                  "1405",
                  "1628",
                  "1140",
                  "1580",
                  "1235",
                  "954",
                  "701",
                  "1014",
                  "323",
                  "366",
                  "641",
                  "1234",
                  "435",
                  "427"
                ],
                [
                  "True_Misconception",
                  "16",
                  "20",
                  "0",
                  "126",
                  "1",
                  "11",
                  "19",
                  "6",
                  "7",
                  "7",
                  "3",
                  "164",
                  "19",
                  "4",
                  "0"
                ],
                [
                  "True_Neither",
                  "613",
                  "493",
                  "170",
                  "495",
                  "135",
                  "355",
                  "701",
                  "167",
                  "630",
                  "300",
                  "139",
                  "589",
                  "294",
                  "58",
                  "126"
                ]
              ],
              "shape": {
                "columns": 15,
                "rows": 6
              }
            },
            "text/html": [
              "<div>\n",
              "<style scoped>\n",
              "    .dataframe tbody tr th:only-of-type {\n",
              "        vertical-align: middle;\n",
              "    }\n",
              "\n",
              "    .dataframe tbody tr th {\n",
              "        vertical-align: top;\n",
              "    }\n",
              "\n",
              "    .dataframe thead th {\n",
              "        text-align: right;\n",
              "    }\n",
              "</style>\n",
              "<table border=\"1\" class=\"dataframe\">\n",
              "  <thead>\n",
              "    <tr style=\"text-align: right;\">\n",
              "      <th>QuestionId</th>\n",
              "      <th>31772</th>\n",
              "      <th>31774</th>\n",
              "      <th>31777</th>\n",
              "      <th>31778</th>\n",
              "      <th>32829</th>\n",
              "      <th>32833</th>\n",
              "      <th>32835</th>\n",
              "      <th>33471</th>\n",
              "      <th>33472</th>\n",
              "      <th>33474</th>\n",
              "      <th>76870</th>\n",
              "      <th>89443</th>\n",
              "      <th>91695</th>\n",
              "      <th>104665</th>\n",
              "      <th>109465</th>\n",
              "    </tr>\n",
              "    <tr>\n",
              "      <th>Category</th>\n",
              "      <th></th>\n",
              "      <th></th>\n",
              "      <th></th>\n",
              "      <th></th>\n",
              "      <th></th>\n",
              "      <th></th>\n",
              "      <th></th>\n",
              "      <th></th>\n",
              "      <th></th>\n",
              "      <th></th>\n",
              "      <th></th>\n",
              "      <th></th>\n",
              "      <th></th>\n",
              "      <th></th>\n",
              "      <th></th>\n",
              "    </tr>\n",
              "  </thead>\n",
              "  <tbody>\n",
              "    <tr>\n",
              "      <th>False_Correct</th>\n",
              "      <td>31</td>\n",
              "      <td>19</td>\n",
              "      <td>35</td>\n",
              "      <td>19</td>\n",
              "      <td>9</td>\n",
              "      <td>9</td>\n",
              "      <td>16</td>\n",
              "      <td>16</td>\n",
              "      <td>47</td>\n",
              "      <td>3</td>\n",
              "      <td>5</td>\n",
              "      <td>3</td>\n",
              "      <td>11</td>\n",
              "      <td>2</td>\n",
              "      <td>2</td>\n",
              "    </tr>\n",
              "    <tr>\n",
              "      <th>False_Misconception</th>\n",
              "      <td>1605</td>\n",
              "      <td>617</td>\n",
              "      <td>390</td>\n",
              "      <td>1296</td>\n",
              "      <td>271</td>\n",
              "      <td>1113</td>\n",
              "      <td>380</td>\n",
              "      <td>431</td>\n",
              "      <td>645</td>\n",
              "      <td>676</td>\n",
              "      <td>383</td>\n",
              "      <td>692</td>\n",
              "      <td>646</td>\n",
              "      <td>115</td>\n",
              "      <td>197</td>\n",
              "    </tr>\n",
              "    <tr>\n",
              "      <th>False_Neither</th>\n",
              "      <td>873</td>\n",
              "      <td>561</td>\n",
              "      <td>586</td>\n",
              "      <td>564</td>\n",
              "      <td>160</td>\n",
              "      <td>382</td>\n",
              "      <td>262</td>\n",
              "      <td>221</td>\n",
              "      <td>457</td>\n",
              "      <td>457</td>\n",
              "      <td>290</td>\n",
              "      <td>965</td>\n",
              "      <td>406</td>\n",
              "      <td>59</td>\n",
              "      <td>299</td>\n",
              "    </tr>\n",
              "    <tr>\n",
              "      <th>True_Correct</th>\n",
              "      <td>1719</td>\n",
              "      <td>1405</td>\n",
              "      <td>1628</td>\n",
              "      <td>1140</td>\n",
              "      <td>1580</td>\n",
              "      <td>1235</td>\n",
              "      <td>954</td>\n",
              "      <td>701</td>\n",
              "      <td>1014</td>\n",
              "      <td>323</td>\n",
              "      <td>366</td>\n",
              "      <td>641</td>\n",
              "      <td>1234</td>\n",
              "      <td>435</td>\n",
              "      <td>427</td>\n",
              "    </tr>\n",
              "    <tr>\n",
              "      <th>True_Misconception</th>\n",
              "      <td>16</td>\n",
              "      <td>20</td>\n",
              "      <td>0</td>\n",
              "      <td>126</td>\n",
              "      <td>1</td>\n",
              "      <td>11</td>\n",
              "      <td>19</td>\n",
              "      <td>6</td>\n",
              "      <td>7</td>\n",
              "      <td>7</td>\n",
              "      <td>3</td>\n",
              "      <td>164</td>\n",
              "      <td>19</td>\n",
              "      <td>4</td>\n",
              "      <td>0</td>\n",
              "    </tr>\n",
              "    <tr>\n",
              "      <th>True_Neither</th>\n",
              "      <td>613</td>\n",
              "      <td>493</td>\n",
              "      <td>170</td>\n",
              "      <td>495</td>\n",
              "      <td>135</td>\n",
              "      <td>355</td>\n",
              "      <td>701</td>\n",
              "      <td>167</td>\n",
              "      <td>630</td>\n",
              "      <td>300</td>\n",
              "      <td>139</td>\n",
              "      <td>589</td>\n",
              "      <td>294</td>\n",
              "      <td>58</td>\n",
              "      <td>126</td>\n",
              "    </tr>\n",
              "  </tbody>\n",
              "</table>\n",
              "</div>"
            ],
            "text/plain": [
              "QuestionId           31772   31774   31777   31778   32829   32833   32835   \\\n",
              "Category                                                                      \n",
              "False_Correct            31      19      35      19       9       9      16   \n",
              "False_Misconception    1605     617     390    1296     271    1113     380   \n",
              "False_Neither           873     561     586     564     160     382     262   \n",
              "True_Correct           1719    1405    1628    1140    1580    1235     954   \n",
              "True_Misconception       16      20       0     126       1      11      19   \n",
              "True_Neither            613     493     170     495     135     355     701   \n",
              "\n",
              "QuestionId           33471   33472   33474   76870   89443   91695   104665  \\\n",
              "Category                                                                      \n",
              "False_Correct            16      47       3       5       3      11       2   \n",
              "False_Misconception     431     645     676     383     692     646     115   \n",
              "False_Neither           221     457     457     290     965     406      59   \n",
              "True_Correct            701    1014     323     366     641    1234     435   \n",
              "True_Misconception        6       7       7       3     164      19       4   \n",
              "True_Neither            167     630     300     139     589     294      58   \n",
              "\n",
              "QuestionId           109465  \n",
              "Category                     \n",
              "False_Correct             2  \n",
              "False_Misconception     197  \n",
              "False_Neither           299  \n",
              "True_Correct            427  \n",
              "True_Misconception        0  \n",
              "True_Neither            126  "
            ]
          },
          "metadata": {},
          "output_type": "display_data"
        },
        {
          "name": "stdout",
          "output_type": "stream",
          "text": [
            "Crosstab Category x Top QuestionId guardada.\n"
          ]
        }
      ],
      "source": [
        "# %% Crosstabs / Tablas de contingencia\n",
        "# Category x Misconception\n",
        "if \"Category\" in train.columns and \"Misconception\" in train.columns:\n",
        "    ct_cat_mis = pd.crosstab(train[\"Category\"], train[\"Misconception\"])\n",
        "    display(ct_cat_mis.iloc[:, :20])  # Mostrar primeras 20 columnas por legibilidad\n",
        "    ct_cat_mis.to_csv(OUT_DIR / \"crosstab_Category_Misconception.csv\")\n",
        "    print(\"Crosstab Category x Misconception guardada.\")\n",
        "\n",
        "# Category x QuestionId (para top QuestionId por tamaño)\n",
        "qid_sizes = train[\"QuestionId\"].value_counts().head(15).index if \"QuestionId\" in train.columns else []\n",
        "if len(qid_sizes) and \"Category\" in train.columns:\n",
        "    sub = train[train[\"QuestionId\"].isin(qid_sizes)]\n",
        "    ct_cat_qid = pd.crosstab(sub[\"Category\"], sub[\"QuestionId\"])\n",
        "    display(ct_cat_qid)\n",
        "    ct_cat_qid.to_csv(OUT_DIR / \"crosstab_Category_TopQuestionId.csv\")\n",
        "    print(\"Crosstab Category x Top QuestionId guardada.\")"
      ]
    },
    {
      "cell_type": "markdown",
      "id": "d91e7a00",
      "metadata": {},
      "source": [
        "\n",
        "\n",
        "#### Category × Misconception\n",
        "\n",
        "* **Patrones nítidos por tipo de error**:\n",
        "\n",
        "  * En **True\\_Misconception (n=403)**, dos etiquetas dominan: **Tacking = 162 (\\~40%)** e **Irrelevant = 88 (\\~22%)**. Es decir, cuando el estudiante acierta la opción pero su razonamiento es defectuoso, suele ser por “agregar/pegar” pasos superficiales o dar explicaciones no pertinentes.\n",
        "  * En **False\\_Misconception (n=9457)**, la cabeza está en **Incomplete = 1446 (\\~15%)**, **Additive = 891 (\\~9%)**, **Duplication = 698 (\\~7%)**, **Subtraction = 618 (\\~6.5%)**, **Positive = 564 (\\~6%)**, **Wrong\\_term = 550 (\\~5.8%)**. También destacan errores de fracciones: **Wrong\\_fraction = 412 (\\~4.4%)** y **Wrong\\_Fraction = 273 (\\~2.9%)** (si se **unen** como una sola etiqueta, rondan **\\~7.2%**), además de **Denominator-only\\_change (\\~3.5%)**, **Adding\\_across (\\~3.2%)**, y **Whole\\_numbers\\_larger (\\~3.5%)**.\n",
        "* **Lectura pedagógica**: los **errores operativos/clásicos** (suma/resta equivocada, duplicación, fracciones mal tratadas) se asocian más a **respuestas incorrectas**; mientras que las **explicaciones superficiales/irrelevantes** aparecen desproporcionadamente en **respuestas correctas con malentendido**.\n",
        "\n",
        "\n",
        "#### Category × QuestionId\n",
        "\n",
        "* **Fuerte heterogeneidad por ítem**:\n",
        "\n",
        "  * Algunos QIDs están **enriquecidos** en `True_Misconception` (p. ej., **89443** con **164** casos ≈ **5.4%** del total de ese ítem, muy por encima del **1.1%** global), mientras otros **no tienen ninguno** (p. ej., **109465** con **0**).\n",
        "  * Hay QIDs con **altísima tasa de errores específicos** (p. ej., **31778** con **False\\_Misconception = 1296**), lo que sugiere que ciertos enunciados **inducen** patrones de malentendido muy concretos.\n",
        "\n",
        "---"
      ]
    },
    {
      "cell_type": "markdown",
      "metadata": {},
      "source": [
        "## Gráficos exploratorios\n",
        "> Nota: Para mantener compatibilidad, los gráficos usan **matplotlib** (sin seaborn) y se generan **uno por figura**.  \n",
        "Se guardan copias en `./eda_outputs/`."
      ]
    },
    {
      "cell_type": "markdown",
      "id": "0973710b",
      "metadata": {},
      "source": [
        "## Histograma: longitud en palabras"
      ]
    },
    {
      "cell_type": "code",
      "execution_count": 7,
      "metadata": {},
      "outputs": [
        {
          "data": {
            "image/png": "[encoded data removed]",
            "text/plain": [
              "<Figure size 800x500 with 1 Axes>"
            ]
          },
          "metadata": {},
          "output_type": "display_data"
        },
        {
          "name": "stdout",
          "output_type": "stream",
          "text": [
            "Figura guardada en: C:\\Users\\n8nug\\Documents\\Uni\\2doSemestre2025\\DS\\DS-Proyecto02\\eda_outputs\\hist_len_words.png\n"
          ]
        }
      ],
      "source": [
        "if \"len_words\" in train.columns:\n",
        "    plt.figure(figsize=(8,5))\n",
        "    plt.hist(train[\"len_words\"].dropna(), bins=40)\n",
        "    plt.title(\"Histograma de longitud en palabras (StudentExplanation)\")\n",
        "    plt.xlabel(\"len_words\")\n",
        "    plt.ylabel(\"Frecuencia\")\n",
        "    plt.tight_layout()\n",
        "    fig_path = OUT_DIR / \"hist_len_words.png\"\n",
        "    plt.savefig(fig_path, dpi=150)\n",
        "    plt.show()\n",
        "    print(\"Figura guardada en:\", fig_path.resolve())"
      ]
    },
    {
      "cell_type": "markdown",
      "id": "f05dfd16",
      "metadata": {},
      "source": [
        "#### Longitud en palabras (StudentExplanation)\n",
        "\n",
        "* **Sesgo a la derecha** claro: la masa está entre **5–20 palabras**, con cola larga.\n",
        "* El pico coincide con la **mediana ≈ 13**; a partir de **\\~30 palabras** (p95) ya es raro y >50 es muy inusual.\n",
        "* Implicación: con textos tan **cortos**, funcionan bien **n-gramas de carácter** y modelos con `max_length` moderado (p. ej., 128 tokens).\n",
        "---"
      ]
    },
    {
      "cell_type": "markdown",
      "id": "6f952425",
      "metadata": {},
      "source": [
        "## Histograma: número de dígitos\n"
      ]
    },
    {
      "cell_type": "code",
      "execution_count": 8,
      "metadata": {},
      "outputs": [
        {
          "data": {
            "image/png": "[encoded data removed]",
            "text/plain": [
              "<Figure size 800x500 with 1 Axes>"
            ]
          },
          "metadata": {},
          "output_type": "display_data"
        },
        {
          "name": "stdout",
          "output_type": "stream",
          "text": [
            "Figura guardada en: C:\\Users\\n8nug\\Documents\\Uni\\2doSemestre2025\\DS\\DS-Proyecto02\\eda_outputs\\hist_num_digits.png\n"
          ]
        }
      ],
      "source": [
        "if \"num_digits\" in train.columns:\n",
        "    plt.figure(figsize=(8,5))\n",
        "    plt.hist(train[\"num_digits\"].dropna(), bins=40)\n",
        "    plt.title(\"Histograma de número de dígitos en explicación\")\n",
        "    plt.xlabel(\"num_digits\")\n",
        "    plt.ylabel(\"Frecuencia\")\n",
        "    plt.tight_layout()\n",
        "    fig_path = OUT_DIR / \"hist_num_digits.png\"\n",
        "    plt.savefig(fig_path, dpi=150)\n",
        "    plt.show()\n",
        "    print(\"Figura guardada en:\", fig_path.resolve())"
      ]
    },
    {
      "cell_type": "markdown",
      "id": "ae2e76b4",
      "metadata": {},
      "source": [
        "#### Número de dígitos en la explicación\n",
        "\n",
        "* Distribución también **sesgada**: muchos casos con **0–5 dígitos**, pero con **cola** que llega a outliers (hasta **101**).\n",
        "* Hay indicios de **mezcla de dos comportamientos**: explicaciones puramente verbales (0 dígitos) vs. explicaciones con cálculo explícito (muchos dígitos).\n",
        "* Implicación: `num_digits` por sí solo no basta, pero combinado con **operadores** o patrones (fracciones/decimales) puede discriminar etiquetas como `Wrong_fraction`, `Adding_across`, `Denominator-only_change`.\n",
        "---"
      ]
    },
    {
      "cell_type": "markdown",
      "id": "a09ec75d",
      "metadata": {},
      "source": [
        "## Barras: distribución de Category"
      ]
    },
    {
      "cell_type": "code",
      "execution_count": 9,
      "metadata": {},
      "outputs": [
        {
          "data": {
            "image/png": "[encoded data removed]",
            "text/plain": [
              "<Figure size 1000x500 with 1 Axes>"
            ]
          },
          "metadata": {},
          "output_type": "display_data"
        },
        {
          "name": "stdout",
          "output_type": "stream",
          "text": [
            "Figura guardada en: C:\\Users\\n8nug\\Documents\\Uni\\2doSemestre2025\\DS\\DS-Proyecto02\\eda_outputs\\bar_Category.png\n"
          ]
        }
      ],
      "source": [
        "\n",
        "if \"Category\" in train.columns:\n",
        "    vc = train[\"Category\"].value_counts()\n",
        "    plt.figure(figsize=(10,5))\n",
        "    plt.bar(vc.index.astype(str), vc.values)\n",
        "    plt.title(\"Distribución de Category\")\n",
        "    plt.xlabel(\"Category\")\n",
        "    plt.ylabel(\"Conteo\")\n",
        "    plt.xticks(rotation=45, ha=\"right\")\n",
        "    plt.tight_layout()\n",
        "    fig_path = OUT_DIR / \"bar_Category.png\"\n",
        "    plt.savefig(fig_path, dpi=150)\n",
        "    plt.show()\n",
        "    print(\"Figura guardada en:\", fig_path.resolve())"
      ]
    },
    {
      "cell_type": "markdown",
      "id": "326e55e1",
      "metadata": {},
      "source": [
        "#### Distribución de `Category`\n",
        "\n",
        "* **Desbalance pronunciado**: dominan `True_Correct` y `False_Misconception`; `True_Misconception` y `False_Correct` son muy minoritarias.\n",
        "---\n"
      ]
    },
    {
      "cell_type": "markdown",
      "id": "ebbfbe91",
      "metadata": {},
      "source": [
        "## Barras: Misconception (Top 20)"
      ]
    },
    {
      "cell_type": "code",
      "execution_count": 10,
      "metadata": {},
      "outputs": [
        {
          "data": {
            "image/png": "[encoded data removed]",
            "text/plain": [
              "<Figure size 1000x600 with 1 Axes>"
            ]
          },
          "metadata": {},
          "output_type": "display_data"
        },
        {
          "name": "stdout",
          "output_type": "stream",
          "text": [
            "Figura guardada en: C:\\Users\\n8nug\\Documents\\Uni\\2doSemestre2025\\DS\\DS-Proyecto02\\eda_outputs\\bar_Misconception_top20.png\n"
          ]
        }
      ],
      "source": [
        "\n",
        "if \"Misconception\" in train.columns:\n",
        "    vc = train[\"Misconception\"].value_counts().head(20)\n",
        "    plt.figure(figsize=(10,6))\n",
        "    plt.bar(vc.index.astype(str), vc.values)\n",
        "    plt.title(\"Top 20 Misconception (conteo)\")\n",
        "    plt.xlabel(\"Misconception\")\n",
        "    plt.ylabel(\"Conteo\")\n",
        "    plt.xticks(rotation=60, ha=\"right\")\n",
        "    plt.tight_layout()\n",
        "    fig_path = OUT_DIR / \"bar_Misconception_top20.png\"\n",
        "    plt.savefig(fig_path, dpi=150)\n",
        "    plt.show()\n",
        "    print(\"Figura guardada en:\", fig_path.resolve())"
      ]
    },
    {
      "cell_type": "markdown",
      "id": "d8bdc22b",
      "metadata": {},
      "source": [
        "* **Cabeza muy marcada:** `Incomplete` sigue siendo la más frecuente, seguida por `Additive`, `Duplication`, `Wrong_fraction` y `Subtraction`. Estas 5 etiquetas concentran una porción sustancial de los casos etiquetados y merecen **atención especial** en la Tarea 3.\n",
        "* **Cola larga controlada:** a partir de \\~la 10.ª–12.ª etiqueta el conteo cae progresivamente. Esto sugiere usar **class weights / focal loss** y reportar **macro-F1 por clase**.\n",
        "* **Señal de features:**\n",
        "\n",
        "  * `Incomplete`: típicamente **menos palabras** y **pocos dígitos/operadores** → útil cruzar con `len_words`, `num_digits`, `num_mathops`.\n",
        "  * `Wrong_fraction`, `Denominator-only_change`, `Adding_across`, `SwapDividend`: mirar **patrones de fracciones/decimales** y símbolos.\n",
        "  * `Additive`, `Duplication`, `Subtraction`: presencia de **operadores** y términos comparativos.\n",
        "\n",
        "---"
      ]
    },
    {
      "cell_type": "markdown",
      "id": "425b4fec",
      "metadata": {},
      "source": [
        "## Boxplot: longitud de explicación por Category\n"
      ]
    },
    {
      "cell_type": "code",
      "execution_count": 11,
      "metadata": {},
      "outputs": [
        {
          "name": "stderr",
          "output_type": "stream",
          "text": [
            "C:\\Users\\n8nug\\AppData\\Local\\Temp\\ipykernel_25744\\284501435.py:5: MatplotlibDeprecationWarning: The 'labels' parameter of boxplot() has been renamed 'tick_labels' since Matplotlib 3.9; support for the old name will be dropped in 3.11.\n",
            "  plt.boxplot(data, labels=order, showfliers=False)\n"
          ]
        },
        {
          "data": {
            "image/png": "[encoded data removed]",
            "text/plain": [
              "<Figure size 1000x600 with 1 Axes>"
            ]
          },
          "metadata": {},
          "output_type": "display_data"
        },
        {
          "name": "stdout",
          "output_type": "stream",
          "text": [
            "Figura guardada en: C:\\Users\\n8nug\\Documents\\Uni\\2doSemestre2025\\DS\\DS-Proyecto02\\eda_outputs\\box_len_words_by_Category.png\n"
          ]
        }
      ],
      "source": [
        "if \"len_words\" in train.columns and \"Category\" in train.columns:\n",
        "    order = train[\"Category\"].value_counts().index.tolist()\n",
        "    data = [train.loc[train[\"Category\"]==cat, \"len_words\"].dropna().values for cat in order]\n",
        "    plt.figure(figsize=(10,6))\n",
        "    plt.boxplot(data, labels=order, showfliers=False)\n",
        "    plt.title(\"Longitud (palabras) por Category\")\n",
        "    plt.xlabel(\"Category\")\n",
        "    plt.ylabel(\"len_words\")\n",
        "    plt.xticks(rotation=45, ha=\"right\")\n",
        "    plt.tight_layout()\n",
        "    fig_path = OUT_DIR / \"box_len_words_by_Category.png\"\n",
        "    plt.savefig(fig_path, dpi=150)\n",
        "    plt.show()\n",
        "    print(\"Figura guardada en:\", fig_path.resolve())"
      ]
    },
    {
      "cell_type": "markdown",
      "id": "28d3b370",
      "metadata": {},
      "source": [
        "#### Boxplots (len\\_words por Category)\n",
        "\n",
        "* **Orden de medianas (aprox.)**: `False_Correct` ≳ `True_Correct` ≳ `True_Misconception` > `False_Misconception` ≳ `True_Neither` ≈ `False_Neither`.\n",
        "* **Lectura**: las explicaciones **correctas** (y las “correctas con malentendido”) tienden a ser **más largas**; las **Neither** y varios **errores** son más **breves**.\n",
        "* **Varianza**: `True_Correct` y `False_Correct` muestran colas más largas (outliers de respuestas muy detalladas).\n",
        "\n",
        "---"
      ]
    },
    {
      "cell_type": "markdown",
      "id": "24d5bff6",
      "metadata": {},
      "source": [
        "## Dispersión: len_words vs num_digits por Category (Top 4 categorías)\n"
      ]
    },
    {
      "cell_type": "code",
      "execution_count": 12,
      "metadata": {},
      "outputs": [
        {
          "data": {
            "image/png": "[encoded data removed]",
            "text/plain": [
              "<Figure size 800x600 with 1 Axes>"
            ]
          },
          "metadata": {},
          "output_type": "display_data"
        },
        {
          "name": "stdout",
          "output_type": "stream",
          "text": [
            "Figura guardada en: C:\\Users\\n8nug\\Documents\\Uni\\2doSemestre2025\\DS\\DS-Proyecto02\\eda_outputs\\scatter_len_words_vs_num_digits_top4cat.png\n"
          ]
        }
      ],
      "source": [
        "if {\"len_words\",\"num_digits\",\"Category\"}.issubset(train.columns):\n",
        "    top_cats = train[\"Category\"].value_counts().head(4).index.tolist()\n",
        "    plt.figure(figsize=(8,6))\n",
        "    for cat in top_cats:\n",
        "        dfc = train.loc[train[\"Category\"]==cat, [\"len_words\",\"num_digits\"]].dropna().sample(\n",
        "            min(3000, len(train.loc[train[\"Category\"]==cat])), random_state=42\n",
        "        )\n",
        "        plt.scatter(dfc[\"len_words\"], dfc[\"num_digits\"], alpha=0.5, label=str(cat))\n",
        "    plt.title(\"len_words vs num_digits (Top 4 Category)\")\n",
        "    plt.xlabel(\"len_words\")\n",
        "    plt.ylabel(\"num_digits\")\n",
        "    plt.legend()\n",
        "    plt.tight_layout()\n",
        "    fig_path = OUT_DIR / \"scatter_len_words_vs_num_digits_top4cat.png\"\n",
        "    plt.savefig(fig_path, dpi=150)\n",
        "    plt.show()\n",
        "    print(\"Figura guardada en:\", fig_path.resolve())"
      ]
    },
    {
      "cell_type": "markdown",
      "id": "4f954723",
      "metadata": {},
      "source": [
        "#### Dispersión (len\\_words vs num\\_digits, Top-4 Category)\n",
        "\n",
        "* **Nube solapada**: gran superposición entre clases; se ve ligera **correlación positiva** (a más palabras, suelen aparecer más dígitos).\n",
        "* **True\\_Correct** ocupa el rango **más amplio** (llega a valores altos en ambas dimensiones).\n",
        "* **Clusters**: muchas muestras en zona **corta y con pocos dígitos** (p.ej., 5–20 palabras y 0–8 dígitos).\n",
        "\n",
        "---"
      ]
    },
    {
      "cell_type": "markdown",
      "id": "58b9fa31",
      "metadata": {},
      "source": [
        "## Heatmap: Category x Misconception (conteos) — primeras 20 Misconception\n"
      ]
    },
    {
      "cell_type": "code",
      "execution_count": 13,
      "metadata": {},
      "outputs": [
        {
          "data": {
            "image/png": "[encoded data removed]",
            "text/plain": [
              "<Figure size 1200x600 with 2 Axes>"
            ]
          },
          "metadata": {},
          "output_type": "display_data"
        },
        {
          "name": "stdout",
          "output_type": "stream",
          "text": [
            "Figura guardada en: C:\\Users\\n8nug\\Documents\\Uni\\2doSemestre2025\\DS\\DS-Proyecto02\\eda_outputs\\heatmap_cat_mis_top20.png\n"
          ]
        }
      ],
      "source": [
        "if \"Category\" in train.columns and \"Misconception\" in train.columns:\n",
        "    ct = pd.crosstab(train[\"Category\"], train[\"Misconception\"])\n",
        "    # Reducimos columnas a las top 20 por suma total\n",
        "    top_m = ct.sum(axis=0).sort_values(ascending=False).head(20).index\n",
        "    ct_top = ct[top_m]\n",
        "\n",
        "    plt.figure(figsize=(12,6))\n",
        "    plt.imshow(ct_top.values, aspect=\"auto\")\n",
        "    plt.colorbar(label=\"Conteo\")\n",
        "    plt.title(\"Heatmap Category x Top20 Misconception\")\n",
        "    plt.xlabel(\"Misconception\")\n",
        "    plt.ylabel(\"Category\")\n",
        "    plt.xticks(ticks=range(len(top_m)), labels=top_m, rotation=60, ha=\"right\")\n",
        "    plt.yticks(ticks=range(len(ct_top.index)), labels=ct_top.index)\n",
        "    plt.tight_layout()\n",
        "    fig_path = OUT_DIR / \"heatmap_cat_mis_top20.png\"\n",
        "    plt.savefig(fig_path, dpi=150)\n",
        "    plt.show()\n",
        "    print(\"Figura guardada en:\", fig_path.resolve())"
      ]
    },
    {
      "cell_type": "markdown",
      "id": "884f92b2",
      "metadata": {},
      "source": [
        "#### Heatmap (Category × Top-20 Misconception)\n",
        "\n",
        "* **False\\_Misconception** concentra la mayor parte de etiquetas y domina en `Incomplete`, `Additive`, `Duplication`, `Wrong_fraction`, `Subtraction`, etc.\n",
        "* **True\\_Misconception** queda **focalizado** en pocas etiquetas (destaca **Tacking** y **Irrelevant**).\n",
        "\n",
        "---"
      ]
    },
    {
      "cell_type": "markdown",
      "id": "c5cba282",
      "metadata": {},
      "source": [
        "# Conclusiones (hallazgos e implicaciones)\n",
        "\n",
        "**Hallazgos clave del EDA**\n",
        "\n",
        "* **Explicaciones cortas y sesgadas a la derecha**: mediana ≈ **13 palabras** (p75 ≈ 19; p95 ≈ 31). La mayoría son breves; hay pocos outliers muy largos.\n",
        "* **Uso moderado de dígitos y escasos operadores**: mediana **4 dígitos**; la mayoría de casos no contiene operadores, con una cola de pocos ejemplos muy “numéricos”.\n",
        "* **Desbalance fuerte en `Category`**: predominan `True_Correct` (\\~40%) y `False_Misconception` (\\~26%); `True_Misconception` (\\~1.1%) y `False_Correct` (\\~0.6%) son raras.\n",
        "* **`Misconception` estructuralmente NA** (\\~75%): coherente con que solo aplica cuando hay “Misconception”. Tras unificar etiquetas (p. ej., `Wrong_fraction`), el **Top-5** (`Incomplete`, `Additive`, `Duplication`, `Wrong_fraction`, `Subtraction`) concentra gran parte de los casos etiquetados; existe **cola larga**.\n",
        "* **Patrones por cruce**:\n",
        "\n",
        "  * `False_Misconception` se asocia a errores “operativos/clásicos” (incompleta, aditiva, duplicación, fracciones, resta).\n",
        "  * `True_Misconception` concentra etiquetas como **Tacking** e **Irrelevant** (explicaciones correctas pero con razonamiento defectuoso).\n",
        "* **Heterogeneidad por `QuestionId`**: algunos ítems concentran tipos de error específicos; riesgo de sobreajuste si no se valida por grupos.\n",
        "\n",
        "**Implicaciones para las siguientes etapas**\n",
        "\n",
        "1. **Validación y métricas**\n",
        "\n",
        "   * Usar **GroupKFold por `QuestionId`** para medir generalización.\n",
        "   * En Tarea 2 y 3 reportar **macro-F1** y **balanced accuracy**; analizar matrices de confusión por clase.\n",
        "2. **Diseño del pipeline**\n",
        "\n",
        "   * Enfoque **jerárquico**:\n",
        "\n",
        "     * T1: Correct/Incorrect (binaria).\n",
        "     * T2: Correct / Misconception / Neither.\n",
        "     * T3: etiqueta específica **solo** si T2 = Misconception (evita entrenar T3 con `NA`).\n",
        "3. **Manejo de desbalance**\n",
        "\n",
        "   * **Class weights** o **focal loss**; considerar **oversampling** prudente en clases raras (p. ej., `True_Misconception`).\n",
        "   * Calibración de probabilidades y **tuning de umbrales** (especialmente para el Top-5 de T3).\n",
        "4. **Features y preprocesamiento**\n",
        "\n",
        "   * Mantener limpieza “no destructiva” y **canonicalización** de etiquetas.\n",
        "   * Añadir rasgos: `len_words`, `num_digits`, `num_mathops`, **ratio dígitos/palabras**, bins de dígitos, detectores de **fracciones/decimales** y comparadores.\n",
        "   * Dado el texto corto, probar **n-gramas de carácter** (baseline fuerte) y un **Transformer base** con `max_length` moderado (\\~128).\n",
        "5. **Riesgos y controles**\n",
        "\n",
        "   * Posible **ruido de anotación** (revisar consistencia `Category`↔`Misconception`).\n",
        "   * Evitar “accuracy ilusoria” por clases mayoritarias; priorizar recall mínimo en minoritarias.\n",
        "\n",
        "El dataset presenta respuestas cortas, fuerte desbalance y patrones de error diferenciados por categoría y pregunta. Un **pipeline jerárquico**, validado por **QuestionId**, con **ponderación de clases**, **features orientadas a contenido matemático** y **calibración** debería mejorar la detección de malentendidos y la clasificación fina de `Misconception`.\n"
      ]
    }
  ],
  "metadata": {
    "kernelspec": {
      "display_name": "Python 3",
      "language": "python",
      "name": "python3"
    },
    "language_info": {
      "codemirror_mode": {
        "name": "ipython",
        "version": 3
      },
      "file_extension": ".py",
      "mimetype": "text/x-python",
      "name": "python",
      "nbconvert_exporter": "python",
      "pygments_lexer": "ipython3",
      "version": "3.12.1"
    }
  },
  "nbformat": 4,
  "nbformat_minor": 5
}
