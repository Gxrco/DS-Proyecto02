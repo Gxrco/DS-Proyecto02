{
 "cells": [
  {
   "cell_type": "markdown",
   "id": "78bdbfb9",
   "metadata": {},
   "source": [
    "# Proyecto 02\n",
    "\n",
    "## Tema: MAP - Charting Student Math Misunderstandings"
   ]
  },
  {
   "cell_type": "markdown",
   "id": "d2cb6b2e",
   "metadata": {},
   "source": [
    "### Preprococesamiento de datos\n"
   ]
  },
  {
   "cell_type": "markdown",
   "id": "1c831c8e",
   "metadata": {},
   "source": [
    "#### Configuración de limpieza"
   ]
  },
  {
   "cell_type": "code",
   "execution_count": 9,
   "id": "c92ac1c5",
   "metadata": {},
   "outputs": [],
   "source": [
    "from pathlib import Path\n",
    "import re, html, json, unicodedata\n",
    "import numpy as np\n",
    "import pandas as pd\n",
    "\n",
    "# Configuraciones generales\n",
    "SEED = 42\n",
    "DATA_DIR = Path(\"./data\")\n",
    "TRAIN_PATH = DATA_DIR / \"train.csv\"\n",
    "TEST_PATH  = DATA_DIR / \"test.csv\"\n",
    "OUT_DIR    = DATA_DIR / \"preprocessed\"\n",
    "OUT_DIR.mkdir(parents=True, exist_ok=True)\n",
    "\n",
    "# Parámetros de preprocesamiento\n",
    "LOWERCASE_TEXT = False       # Para modelos tipo BERT \"cased\", conviene False\n",
    "NORMALIZE_FORM = \"NFC\"       # NFC preserva mejor símbolos/LaTeX que NFKC\n",
    "STRIP_URLS     = True        # Reemplazar URLs/emails por tokens\n",
    "KEEP_PUNCT     = True        # Mantener puntuación (importante en matemáticas)"
   ]
  },
  {
   "cell_type": "markdown",
   "id": "978cc830",
   "metadata": {},
   "source": [
    "#### Utilidades de limpieza de texto"
   ]
  },
  {
   "cell_type": "code",
   "execution_count": 10,
   "id": "b53327c3",
   "metadata": {},
   "outputs": [],
   "source": [
    "_ZW_CHARS = \"\".join([\n",
    "    \"\\u200b\",  # zero-width space\n",
    "    \"\\u200c\", \"\\u200d\",  # zero-width non-joiner/joiner\n",
    "    \"\\ufeff\", # BOM\n",
    "])\n",
    "\n",
    "def _remove_control_chars(s: str) -> str:\n",
    "    return \"\".join(ch for ch in s if (ch in \"\\n\\t\\r\") or (ord(ch) >= 32))\n",
    "\n",
    "def _standardize_quotes_dashes(s: str) -> str:\n",
    "    # Normaliza comillas y guiones largos a ASCII simple (sin tocar signos matemáticos +−×÷=/^)\n",
    "    s = s.replace(\"“\",\"\\\"\").replace(\"”\",\"\\\"\").replace(\"‘\",\"'\").replace(\"’\",\"'\")\n",
    "    s = s.replace(\"—\",\"-\").replace(\"–\",\"-\")\n",
    "    return s\n",
    "\n",
    "URL_RE   = re.compile(r\"https?://\\S+|www\\.\\S+\", re.IGNORECASE)\n",
    "EMAIL_RE = re.compile(r\"[A-Za-z0-9._%+-]+@[A-Za-z0-9.-]+\\.[A-Za-z]{2,}\")\n",
    "\n",
    "MATH_LATEX_HINTS = (\n",
    "    r\"\\$.*?\\$\",        # $...$\n",
    "    r\"\\\\frac\", r\"\\\\sqrt\", r\"\\\\times\", r\"\\\\cdot\", r\"\\\\left\", r\"\\\\right\",\n",
    "    r\"\\\\begin\\{.*?}\", r\"\\\\end\\{.*?}\"\n",
    ")\n",
    "LATEX_RE = re.compile(\"|\".join(MATH_LATEX_HINTS))\n",
    "\n",
    "def clean_text(text: str,\n",
    "               lowercase: bool = LOWERCASE_TEXT,\n",
    "               normalize_form: str = NORMALIZE_FORM,\n",
    "               strip_urls: bool = STRIP_URLS,\n",
    "               keep_punct: bool = KEEP_PUNCT) -> str:\n",
    "    \"\"\"\n",
    "    Limpieza NO destructiva pensada para explicaciones de estudiantes:\n",
    "    - Unescape HTML, normaliza Unicode (por defecto NFC), elimina controles/ZW.\n",
    "    - Estandariza comillas/guiones; colapsa espacios.\n",
    "    - Opcional: reemplaza URLs/emails por tokens; evita remover puntuación (transformers la manejan).\n",
    "    - No altera contenido LaTeX ni símbolos matemáticos.\n",
    "    \"\"\"\n",
    "    if pd.isna(text):\n",
    "        return \"\"\n",
    "\n",
    "    s = str(text)\n",
    "\n",
    "    # 1) HTML & Unicode\n",
    "    s = html.unescape(s)\n",
    "    try:\n",
    "        s = unicodedata.normalize(normalize_form, s)\n",
    "    except Exception:\n",
    "        # Si el form no es válido, retomamos NFC\n",
    "        s = unicodedata.normalize(\"NFC\", s)\n",
    "\n",
    "    # 2) Eliminar controles y ZW\n",
    "    s = s.replace(_ZW_CHARS, \"\")\n",
    "    s = _remove_control_chars(s)\n",
    "\n",
    "    # 3) Estandarizar comillas/guiones\n",
    "    s = _standardize_quotes_dashes(s)\n",
    "\n",
    "    # 4) Sustituir URLs/emails por tokens neutros\n",
    "    if strip_urls:\n",
    "        s = URL_RE.sub(\" <URL> \", s)\n",
    "        s = EMAIL_RE.sub(\" <EMAIL> \", s)\n",
    "\n",
    "    # 5) Opcional: minúsculas (recomendado dejar False para modelos 'cased')\n",
    "    if lowercase:\n",
    "        s = s.lower()\n",
    "\n",
    "    # 6) Mantener puntuación; solo limpiar excesos de espacios\n",
    "    s = re.sub(r\"\\s+\", \" \", s, flags=re.MULTILINE).strip()\n",
    "    return s\n"
   ]
  },
  {
   "cell_type": "markdown",
   "id": "8a746423",
   "metadata": {},
   "source": [
    "#### Fase de carga"
   ]
  },
  {
   "cell_type": "code",
   "execution_count": 11,
   "id": "dde76040",
   "metadata": {},
   "outputs": [
    {
     "data": {
      "text/plain": [
       "(   row_id  QuestionId                                       QuestionText  \\\n",
       " 0       0       31772  What fraction of the shape is not shaded? Give...   \n",
       " 1       1       31772  What fraction of the shape is not shaded? Give...   \n",
       " \n",
       "            MC_Answer                                 StudentExplanation  \\\n",
       " 0  \\( \\frac{1}{3} \\)                  0ne third is equal to tree nineth   \n",
       " 1  \\( \\frac{1}{3} \\)  1 / 3 because 6 over 9 is 2 thirds and 1 third...   \n",
       " \n",
       "        Category Misconception  \n",
       " 0  True_Correct           NaN  \n",
       " 1  True_Correct           NaN  ,\n",
       "    row_id  QuestionId                                       QuestionText  \\\n",
       " 0   36696       31772  What fraction of the shape is not shaded? Give...   \n",
       " 1   36697       31772  What fraction of the shape is not shaded? Give...   \n",
       " \n",
       "            MC_Answer                                 StudentExplanation  \n",
       " 0  \\( \\frac{1}{3} \\)  I think that 1/3 is the answer, as it's the si...  \n",
       " 1  \\( \\frac{3}{6} \\)  i think this answer is because 3 triangles are...  )"
      ]
     },
     "execution_count": 11,
     "metadata": {},
     "output_type": "execute_result"
    }
   ],
   "source": [
    "\n",
    "train = pd.read_csv(TRAIN_PATH)\n",
    "test  = pd.read_csv(TEST_PATH)\n",
    "\n",
    "# Verificar que las columnas esperadas estén presentes\n",
    "expected_train_cols = {\"QuestionId\", \"QuestionText\", \"MC_Answer\", \"StudentExplanation\", \"Category\", \"Misconception\"}\n",
    "expected_test_cols  = {\"QuestionId\", \"QuestionText\", \"MC_Answer\", \"StudentExplanation\"}\n",
    "\n",
    "missing_train = expected_train_cols - set(train.columns)\n",
    "missing_test  = expected_test_cols  - set(test.columns)\n",
    "\n",
    "if missing_train:\n",
    "    print(\"ADVERTENCIA: Faltan columnas en train:\", missing_train)\n",
    "if missing_test:\n",
    "    print(\"ADVERTENCIA: Faltan columnas en test:\", missing_test)\n",
    "\n",
    "train.head(2), test.head(2)\n"
   ]
  },
  {
   "cell_type": "markdown",
   "id": "53b0e9f5",
   "metadata": {},
   "source": [
    "#### Limpieza de StudenExplanation"
   ]
  },
  {
   "cell_type": "code",
   "execution_count": 12,
   "id": "29aee918",
   "metadata": {},
   "outputs": [],
   "source": [
    "# ---- Aplicar limpieza de texto únicamente a StudentExplanation\n",
    "train[\"StudentExplanation_clean\"] = train[\"StudentExplanation\"].apply(clean_text)\n",
    "test[\"StudentExplanation_clean\"]  = test[\"StudentExplanation\"].apply(clean_text)\n",
    "\n",
    "# ---- Señales/rasgos útiles para EDA/modelado posterior (no destructivos)\n",
    "def count_chars(s): return len(s)\n",
    "def count_words(s): return len(s.split()) if s else 0\n",
    "def count_digits(s): return sum(ch.isdigit() for ch in s)\n",
    "def count_math_ops(s): return sum(s.count(op) for op in [\"+\", \"-\", \"*\", \"/\", \"^\", \"=\"])\n",
    "def has_latex(s): return bool(LATEX_RE.search(s or \"\"))\n",
    "\n",
    "for df in (train, test):\n",
    "    col = \"StudentExplanation_clean\"\n",
    "    df[\"len_chars\"]   = df[col].apply(count_chars)\n",
    "    df[\"len_words\"]   = df[col].apply(count_words)\n",
    "    df[\"num_digits\"]  = df[col].apply(count_digits)\n",
    "    df[\"num_mathops\"] = df[col].apply(count_math_ops)\n",
    "    df[\"has_latex\"]   = df[col].apply(has_latex)\n"
   ]
  },
  {
   "cell_type": "markdown",
   "id": "7f7abc74",
   "metadata": {},
   "source": [
    "#### Maneja valores faltantes"
   ]
  },
  {
   "cell_type": "code",
   "execution_count": 13,
   "id": "e9117bc1",
   "metadata": {},
   "outputs": [
    {
     "data": {
      "text/plain": [
       "1048"
      ]
     },
     "execution_count": 13,
     "metadata": {},
     "output_type": "execute_result"
    }
   ],
   "source": [
    "# StudentExplanation ya está saneada a \"\" si venía NaN en clean_text\n",
    "#  para etiquetas (solo train): Category y Misconception pueden tener NaN\n",
    "train[\"Category\"]      = train[\"Category\"].fillna(\"Unknown\")\n",
    "train[\"Misconception\"] = train[\"Misconception\"].fillna(\"None\")\n",
    "\n",
    "# Etiquetas codificadas como enteros para modelado futuro\n",
    "# Nota: NO se altera el espacio de etiquetas; solo se mapean a IDs.\n",
    "cat_classes = sorted(train[\"Category\"].unique())\n",
    "miscon_classes = sorted(train[\"Misconception\"].unique())\n",
    "\n",
    "cat2id  = {c:i for i,c in enumerate(cat_classes)}\n",
    "mis2id  = {m:i for i,m in enumerate(miscon_classes)}\n",
    "\n",
    "train[\"Category_id\"]      = train[\"Category\"].map(cat2id).astype(\"int32\")\n",
    "train[\"Misconception_id\"] = train[\"Misconception\"].map(mis2id).astype(\"int32\")\n",
    "\n",
    "(Path(OUT_DIR) / \"label_maps.json\").write_text(\n",
    "    json.dumps({\"Category\": cat2id, \"Misconception\": mis2id}, indent=2, ensure_ascii=False)\n",
    ")\n"
   ]
  },
  {
   "cell_type": "markdown",
   "id": "2e85e181",
   "metadata": {},
   "source": [
    "#### Exportación de limpieza"
   ]
  },
  {
   "cell_type": "code",
   "execution_count": 14,
   "id": "6e1f7f62",
   "metadata": {},
   "outputs": [
    {
     "name": "stdout",
     "output_type": "stream",
     "text": [
      "✅ Preprocesamiento completado. Archivos en: /Users/gerco/UVG/8th_semester/Data_Science/DS-Proyecto02/data/preprocessed\n"
     ]
    }
   ],
   "source": [
    "# ---- Salvar datasets preprocesados\n",
    "train_out = OUT_DIR / \"train_preprocessed.csv\"\n",
    "test_out  = OUT_DIR / \"test_preprocessed.csv\"\n",
    "\n",
    "train.to_csv(train_out, index=False)\n",
    "test.to_csv(test_out, index=False)\n",
    "\n",
    "train_out, test_out\n",
    "\n",
    "assert train[\"StudentExplanation_clean\"].isna().sum() == 0\n",
    "assert test[\"StudentExplanation_clean\"].isna().sum() == 0\n",
    "print(\"✅ Preprocesamiento completado. Archivos en:\", OUT_DIR.resolve())\n"
   ]
  }
 ],
 "metadata": {
  "kernelspec": {
   "display_name": "venv",
   "language": "python",
   "name": "python3"
  },
  "language_info": {
   "codemirror_mode": {
    "name": "ipython",
    "version": 3
   },
   "file_extension": ".py",
   "mimetype": "text/x-python",
   "name": "python",
   "nbconvert_exporter": "python",
   "pygments_lexer": "ipython3",
   "version": "3.10.2"
  }
 },
 "nbformat": 4,
 "nbformat_minor": 5
}
