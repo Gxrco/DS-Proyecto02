{
 "cells": [
  {
   "cell_type": "markdown",
   "id": "78bdbfb9",
   "metadata": {},
   "source": [
    "# Proyecto 02\n",
    "\n",
    "## Tema: MAP - Charting Student Math Misunderstandings"
   ]
  },
  {
   "cell_type": "markdown",
   "id": "d2cb6b2e",
   "metadata": {},
   "source": [
    "### Preprococesamiento de datos\n"
   ]
  },
  {
   "cell_type": "code",
   "execution_count": null,
   "id": "c92ac1c5",
   "metadata": {},
   "outputs": [],
   "source": [
    "from pathlib import Path\n",
    "import re, html, json, unicodedata\n",
    "import numpy as np\n",
    "import pandas as pd\n",
    "\n",
    "# Configuraciones generales\n",
    "SEED = 42\n",
    "DATA_DIR = Path(\"./data\")\n",
    "TRAIN_PATH = DATA_DIR / \"train.csv\"\n",
    "TEST_PATH  = DATA_DIR / \"test.csv\"\n",
    "OUT_DIR    = DATA_DIR / \"preprocessed\"\n",
    "OUT_DIR.mkdir(parents=True, exist_ok=True)\n",
    "\n",
    "# Parámetros de preprocesamiento\n",
    "LOWERCASE_TEXT = False       # Para modelos tipo BERT \"cased\", conviene False\n",
    "NORMALIZE_FORM = \"NFC\"       # NFC preserva mejor símbolos/LaTeX que NFKC\n",
    "STRIP_URLS     = True        # Reemplazar URLs/emails por tokens\n",
    "KEEP_PUNCT     = True        # Mantener puntuación (importante en matemáticas)"
   ]
  }
 ],
 "metadata": {
  "kernelspec": {
   "display_name": "venv",
   "language": "python",
   "name": "python3"
  },
  "language_info": {
   "codemirror_mode": {
    "name": "ipython",
    "version": 3
   },
   "file_extension": ".py",
   "mimetype": "text/x-python",
   "name": "python",
   "nbconvert_exporter": "python",
   "pygments_lexer": "ipython3",
   "version": "3.10.2"
  }
 },
 "nbformat": 4,
 "nbformat_minor": 5
}
